{
 "cells": [
  {
   "cell_type": "markdown",
   "id": "8b3a26e2",
   "metadata": {},
   "source": [
    "<br><br>\n",
    "\n",
    "<div style='text-align: center;'> <h2>Recurrent Neural Network for Twitter Sentiment Analysis</h2>\n",
    "\n",
    "</div>\n",
    "<br> \n",
    "\n",
    "&emsp;&emsp;&emsp;&emsp;**This project involves the implementation and employment of a recurrent neural network with embedding and advanced attentional mechanisms for sentiment analysis, particularly training on and analyzing tweets. Sentiment analysis, as implied by the term, involves analyzing the content of a given text to determine the emotional undertone or sentiment most appropriate to it. This practice is particularly helpful for a variety of purposes, chief among them is understanding and learning from public perception and public opinion, whether to understand the public stance towards a particular topic, company, or service; for research and development; to better manage and monitor social spaces (for instance by uprooting hateful, inciting or inflammatory content); or even to better understand the general social and political climate, which has a direct bearing on the stocks and forex markets and can thus inform decisions related thereto. Indeed, with the unrelenting increased digitization of the public sphere, sentiment analysis, especially as applied to large-scale social media platforms like X/twitter, has become pivotal for companies everywhere to better manage the public reception of their products and services and to ensure their betterment and meet customers' expectations aptly, thus greatly aiding companies' pursuit of growth and quality. To that end, I endeavoured to develop a recurrent neural network with various attentional and optimization mechanisms and train it on a large dataset of tweets to learn to distinguish between different sentiment and identify the correct sentiment for each individual tweet.**\n",
    "\n",
    "\n",
    "<br>\n",
    "\n",
    "&emsp;&emsp;&emsp;&emsp;**The dataset presented here was taken from Kaggle, which you can quickly access from the following [link](https://www.kaggle.com/datasets/yasserh/twitter-tweets-sentiment-dataset/). This dataset is comprised of approximately 27,500 tweets, each tweet labelled in advance with the sentiment appropriate to it. Sentiment labels present are simply \"positive\", \"negative\", or \"neutral\". Each row in the data includes the tweet's text content and a corresponding sentiment label. The goal here, as mentioned, is to develop a neural network that learns from this dataset to correctly identify the sentiment or emotion that perfectly fits a given post.**<br> \n",
    "<br>\n",
    "\n",
    "**You can view each column and its description in the table below:** <br><br>  \n",
    "\n",
    "| **Variable**      | **Description**                                                                                         |\n",
    "| :-----------------| :------------------------------------------------------------------------------------------------------ |\n",
    "| **textID**       | Unique identifier for each tweet                                                             |\n",
    "| **text**| Raw text of the tweet                                                     |\n",
    "| **selected_text**    | Most relevant or informative part of the tweet for deciding sentiment                                                                                       |\n",
    "| **sentiment**  | Sentiment label corresponding to the tweet (neutral, positive, or negative)              |\n",
    "\n",
    "<br>\n",
    "<br>\n"
   ]
  },
  {
   "cell_type": "markdown",
   "id": "1a74b2a9-a105-4e58-91ed-13b37dc637c2",
   "metadata": {},
   "source": [
    "\n",
    "&emsp;&emsp;&emsp;&emsp;**Prior to model development, the dataset was quickly inspected and cleaned before being thoroughly preprocessed and prepared for training. Preparatory steps included removing hyperlinks, hashtags, stop words, emojis and emoticons, and lemmatization. The tweets were then tokenized and padded to be fed appropriately to the model. A recurrent neural network was then developed and trained for sentiment analysis. It was also endowed with several attentional capabilities to facilitate sentiment analysis. As such, this network roughly consisted of the following: an embedding layer for word embedding; a mask layer, which specialized in masking sentiment or emotional words, adding more emphasis to them during training; a bidirectional Long-Short Term Memory (LSTM) layer to learn context and semantic dependencies in the data; a self-attention for added importance on the most relevant parts of the text; and finally a dense layer with 3 units for classification. Each layer fedforward to the next one before terminating at the classification layer to identify the sentiment appropriate to a given tweet. Finally, the network was then tested on a separate testing set for a final evaluation. The network yielded considerably favorable results.** <br>\n",
    "\n",
    "<br>\n",
    "\n",
    "**Overall, the project is comprised of 3 sections: <br>\n",
    "&emsp; 1) [Reading and Inspecting the Data](#reading-and-inspecting-the-data) <br>\n",
    "&emsp; 2) [Data Preparation and Preprocessing](#data-preparation-and-preprocessing) <br> \n",
    "&emsp; 3) [Model Development and Evaluation](#model-development-and-evaluation)** <br>\n",
    "\n",
    "<br>\n",
    "<br>\n"
   ]
  },
  {
   "cell_type": "markdown",
   "id": "48cea56b",
   "metadata": {},
   "source": [
    "**Install Required Modules**"
   ]
  },
  {
   "cell_type": "code",
   "execution_count": null,
   "id": "6d14d7f6",
   "metadata": {},
   "outputs": [],
   "source": [
    "!pip install numpy pandas matplotlib seaborn nltk scikit-learn tensorflow --quiet"
   ]
  },
  {
   "cell_type": "markdown",
   "id": "aaa8013e",
   "metadata": {},
   "source": [
    "**Importing Python Modules**"
   ]
  },
  {
   "cell_type": "code",
   "execution_count": null,
   "id": "9218caa1",
   "metadata": {},
   "outputs": [],
   "source": [
    "#import necessary modules\n",
    "import os\n",
    "import re \n",
    "import math \n",
    "import random\n",
    "import string\n",
    "import numpy as np\n",
    "import pandas as pd \n",
    "import seaborn as sns\n",
    "import tensorflow as tf   \n",
    "import matplotlib.pyplot as plt\n",
    "from nltk.corpus import stopwords\n",
    "from nltk.stem import WordNetLemmatizer\n",
    "from tensorflow.keras import layers, optimizers, regularizers        \n",
    "from tensorflow.keras.callbacks import EarlyStopping, Callback    \n",
    "from tensorflow.keras.preprocessing.text import Tokenizer      \n",
    "from tensorflow.keras.preprocessing.sequence import pad_sequences \n",
    "from sklearn.metrics import accuracy_score, precision_score, recall_score, f1_score\n",
    "from sklearn.model_selection import train_test_split\n",
    "from sklearn.linear_model import LogisticRegression\n",
    "\n",
    "import warnings\n",
    "warnings.simplefilter('ignore')\n",
    "os.environ['TF_CPP_MIN_LOG_LEVEL'] = '2'\n",
    "\n",
    "#Adjust pandas data display settings \n",
    "pd.set_option('display.max_colwidth', 100)\n",
    "\n",
    "#Set plotting context and style\n",
    "sns.set_context('notebook')\n",
    "sns.set_style('white')\n",
    "%matplotlib inline"
   ]
  },
  {
   "cell_type": "markdown",
   "id": "5cd7f9ea",
   "metadata": {},
   "source": [
    "**Random Seed**"
   ]
  },
  {
   "cell_type": "code",
   "execution_count": null,
   "id": "702dca7d",
   "metadata": {},
   "outputs": [],
   "source": [
    "#Set random seed for reproducible results\n",
    "rs = 121\n",
    "\n",
    "#set global random seed to libraries used \n",
    "random.seed(rs)\n",
    "np.random.seed(rs)\n",
    "tf.random.set_seed(rs)\n"
   ]
  },
  {
   "cell_type": "markdown",
   "id": "a7bfefd0",
   "metadata": {},
   "source": [
    " "
   ]
  },
  {
   "cell_type": "markdown",
   "id": "9519b87a-ffb6-4959-b89c-6284fcd0e0ec",
   "metadata": {},
   "source": [
    "**Defining Helper Functions for data analysis and visualization**"
   ]
  },
  {
   "cell_type": "code",
   "execution_count": 3,
   "id": "03683363-5556-4e4f-89d9-e54f39766eb2",
   "metadata": {},
   "outputs": [],
   "source": [
    "#Defining a function to compute and report error scores\n",
    "def error_scores(ytest, ypred, model_accuracy, classes):\n",
    "    error_metrics = {\n",
    "        'Accuracy': model_accuracy,\n",
    "        'Precision': precision_score(ytest, ypred, average=None),\n",
    "        'Recall': recall_score(ytest, ypred, average=None),\n",
    "        'F1 score': f1_score(ytest, ypred, average=None),\n",
    "    }\n",
    "\n",
    "    return pd.DataFrame(error_metrics, index=classes).apply(lambda x:round(x,2)).T\n",
    "\n",
    "\n",
    "#Define function to plot the confusion matrix using a heatmap\n",
    "def plot_cm(cm, labels):\n",
    "    plt.figure(figsize=(10,7))\n",
    "    hmap = sns.heatmap(cm, annot=True, fmt='g', cmap='Blues',\n",
    "            xticklabels=labels, yticklabels=labels)\n",
    "    hmap.set_xlabel('Predicted Value', fontsize=13)\n",
    "    hmap.set_ylabel('Truth Value', fontsize=13)\n",
    "    plt.tight_layout()\n",
    "\n",
    "\n",
    "#Define custom function to visualize model training history\n",
    "def plot_training_history(run_histories: list, metrics: list = None, title='Model run history'):\n",
    "    #If no specific metrics are given, infer them from the first history object\n",
    "    if not metrics:\n",
    "        metrics = [key for key in run_histories[0].history.keys() if 'val_' not in key]\n",
    "    else:\n",
    "        metrics = [metric.lower() for metric in metrics]\n",
    "\n",
    "    #Set up the number of rows and columns for the subplots\n",
    "    n_metrics = len(metrics)\n",
    "    n_cols = min(3, n_metrics)  #Limit to a max of 3 columns for better readability\n",
    "    n_rows = math.ceil(n_metrics / n_cols)\n",
    "\n",
    "    #Set up colors to use\n",
    "    colors = ['steelblue', 'red', 'skyblue', 'orange', 'indigo', 'green', 'DarkCyan', 'olive', 'brown', 'hotpink']\n",
    "\n",
    "    #Ensure loss first is plotted first\n",
    "    if 'loss' in metrics:\n",
    "        metrics.remove('loss')\n",
    "        metrics.insert(0,'loss')\n",
    "\n",
    "    #Initialize the figure and axes\n",
    "    fig, axes = plt.subplots(n_rows, n_cols, figsize=(7.5*n_cols, 5 * n_rows))\n",
    "    axes = axes.flatten() if n_metrics > 1 else [axes]\n",
    "\n",
    "    #Loop over each metric and create separate subplots\n",
    "    for i, metric in enumerate(metrics):\n",
    "        #Initialize starting epoch\n",
    "        epoch_start = 0\n",
    "        for j, history in enumerate(run_histories):\n",
    "            epochs_range = range(epoch_start, epoch_start + len(history.epoch))\n",
    "\n",
    "            #Plot training and validation metrics for each run history\n",
    "            axes[i].plot(epochs_range, history.history[metric], color=colors[i*2], ls='-', lw=2, label=(f'Training {metric}') if j==0 else None)\n",
    "           # axes[i].set_xticks(epochs_range)\n",
    "            if f'val_{metric}' in history.history:\n",
    "                axes[i].plot(epochs_range, history.history.get(f'val_{metric}', []), color=colors[i*2+1], ls='-', lw=2, label=(f'Validation {metric}') if j==0 else None)\n",
    "\n",
    "            #Update the epoch start for the next run\n",
    "            epoch_start += len(history.epoch)\n",
    "\n",
    "        #Set the titles, labels, and legends\n",
    "        axes[i].set(title=f'{metric.capitalize()} over Epochs', xlabel='Epoch', ylabel=metric.capitalize())\n",
    "        axes[i].legend(loc='best')\n",
    "\n",
    "    #Remove any extra subplots if the grid is larger than the number of metrics\n",
    "    for k in range(i + 1, n_rows * n_cols):\n",
    "        fig.delaxes(axes[k])\n",
    "\n",
    "    fig.suptitle(title, fontsize=16, y=(0.95) if n_rows>1 else 0.98)\n",
    "    plt.show()\n",
    "\n",
    "#Define custom function decode tokens, returning them to raw text\n",
    "def decode_tokens(indexed_tokens, idx2word_dict):\n",
    "  return ' '.join([idx2word_dict[index] for index in indexed_tokens if index!=0])\n"
   ]
  },
  {
   "cell_type": "markdown",
   "id": "b4a76bdf-8e48-48c1-b579-9baef93fe846",
   "metadata": {},
   "source": [
    " "
   ]
  },
  {
   "cell_type": "markdown",
   "id": "481ca5c7-6bd7-4785-8030-5c51a4a69c13",
   "metadata": {},
   "source": [
    "<a id=\"reading-and-inspecting-the-data\"></a> \n",
    "## Part One: Reading and Inspecting the Data\n"
   ]
  },
  {
   "cell_type": "markdown",
   "id": "37889f91-9332-41b4-a75e-025b4a8e1ae6",
   "metadata": {},
   "source": [
    "**Loading and reading the dataset**"
   ]
  },
  {
   "cell_type": "code",
   "execution_count": 4,
   "id": "d54a2fb2-e4fe-40d6-990d-61a6f653073a",
   "metadata": {},
   "outputs": [
    {
     "name": "stdout",
     "output_type": "stream",
     "text": [
      "Total number of tweets: 27,481\n"
     ]
    }
   ],
   "source": [
    "#Access and read data into dataframe\n",
    "df = pd.read_csv('Tweets.csv')\n",
    "\n",
    "#Report total count \n",
    "print(f'Total number of tweets: {df.shape[0]:,}')\n"
   ]
  },
  {
   "cell_type": "markdown",
   "id": "2e2c378f-6b07-4501-98f6-97607c4e434f",
   "metadata": {},
   "source": [
    "#### Inspecting the data"
   ]
  },
  {
   "cell_type": "markdown",
   "id": "cffb3981",
   "metadata": {},
   "source": [
    "**Previewing the data**"
   ]
  },
  {
   "cell_type": "code",
   "execution_count": 5,
   "id": "23002d88-7f80-4165-a513-7f50c218df25",
   "metadata": {},
   "outputs": [
    {
     "data": {
      "text/html": [
       "<div>\n",
       "<style scoped>\n",
       "    .dataframe tbody tr th:only-of-type {\n",
       "        vertical-align: middle;\n",
       "    }\n",
       "\n",
       "    .dataframe tbody tr th {\n",
       "        vertical-align: top;\n",
       "    }\n",
       "\n",
       "    .dataframe thead th {\n",
       "        text-align: right;\n",
       "    }\n",
       "</style>\n",
       "<table border=\"1\" class=\"dataframe\">\n",
       "  <thead>\n",
       "    <tr style=\"text-align: right;\">\n",
       "      <th></th>\n",
       "      <th>textID</th>\n",
       "      <th>text</th>\n",
       "      <th>selected_text</th>\n",
       "      <th>sentiment</th>\n",
       "    </tr>\n",
       "  </thead>\n",
       "  <tbody>\n",
       "    <tr>\n",
       "      <th>25212</th>\n",
       "      <td>e145f04c31</td>\n",
       "      <td>D= indeed</td>\n",
       "      <td>D= indeed</td>\n",
       "      <td>neutral</td>\n",
       "    </tr>\n",
       "    <tr>\n",
       "      <th>19875</th>\n",
       "      <td>2c993b420a</td>\n",
       "      <td>they are terrible little beast but if the garden is small you can simply collect them, or you c...</td>\n",
       "      <td>e terrible</td>\n",
       "      <td>negative</td>\n",
       "    </tr>\n",
       "    <tr>\n",
       "      <th>17826</th>\n",
       "      <td>dbc02fbb6f</td>\n",
       "      <td>I really wish i would hear from josh</td>\n",
       "      <td>I really wish i would hear from josh</td>\n",
       "      <td>neutral</td>\n",
       "    </tr>\n",
       "    <tr>\n",
       "      <th>9905</th>\n",
       "      <td>8c32aab25f</td>\n",
       "      <td>You Got Twitter! Yayy  ****</td>\n",
       "      <td>Yayy</td>\n",
       "      <td>positive</td>\n",
       "    </tr>\n",
       "    <tr>\n",
       "      <th>19773</th>\n",
       "      <td>669237d42b</td>\n",
       "      <td>installed the iNav iBlue v2 Theme...gives a fresh feel    http://twitpic.com/4jfg4</td>\n",
       "      <td>fresh</td>\n",
       "      <td>positive</td>\n",
       "    </tr>\n",
       "    <tr>\n",
       "      <th>21691</th>\n",
       "      <td>6bd9ddc994</td>\n",
       "      <td>_B if you`re in leeds you can have one from me</td>\n",
       "      <td>_B if you`re in leeds you can have one from me</td>\n",
       "      <td>neutral</td>\n",
       "    </tr>\n",
       "    <tr>\n",
       "      <th>20649</th>\n",
       "      <td>19cc8138fd</td>\n",
       "      <td>One more thing 'Shattered' is an amazing song by O.A.R.</td>\n",
       "      <td>amazing</td>\n",
       "      <td>positive</td>\n",
       "    </tr>\n",
       "    <tr>\n",
       "      <th>11057</th>\n",
       "      <td>f973d336f8</td>\n",
       "      <td>hiya!  did you get a picture of your converse?? GET YOUR CONVERSE OUT!</td>\n",
       "      <td>hiya!  did you get a picture of your converse?? GET YOUR CONVERSE OUT!</td>\n",
       "      <td>neutral</td>\n",
       "    </tr>\n",
       "    <tr>\n",
       "      <th>15424</th>\n",
       "      <td>42e9dce94a</td>\n",
       "      <td>Happy Mama`s day to all mothers</td>\n",
       "      <td>Happy</td>\n",
       "      <td>positive</td>\n",
       "    </tr>\n",
       "    <tr>\n",
       "      <th>9947</th>\n",
       "      <td>23fe4acb90</td>\n",
       "      <td>Will try to make it there at 6:30pm</td>\n",
       "      <td>Will try to make it there at 6:30pm</td>\n",
       "      <td>neutral</td>\n",
       "    </tr>\n",
       "  </tbody>\n",
       "</table>\n",
       "</div>"
      ],
      "text/plain": [
       "           textID  \\\n",
       "25212  e145f04c31   \n",
       "19875  2c993b420a   \n",
       "17826  dbc02fbb6f   \n",
       "9905   8c32aab25f   \n",
       "19773  669237d42b   \n",
       "21691  6bd9ddc994   \n",
       "20649  19cc8138fd   \n",
       "11057  f973d336f8   \n",
       "15424  42e9dce94a   \n",
       "9947   23fe4acb90   \n",
       "\n",
       "                                                                                                      text  \\\n",
       "25212                                                                                            D= indeed   \n",
       "19875   they are terrible little beast but if the garden is small you can simply collect them, or you c...   \n",
       "17826                                                                 I really wish i would hear from josh   \n",
       "9905                                                                           You Got Twitter! Yayy  ****   \n",
       "19773                   installed the iNav iBlue v2 Theme...gives a fresh feel    http://twitpic.com/4jfg4   \n",
       "21691                                                       _B if you`re in leeds you can have one from me   \n",
       "20649                                              One more thing 'Shattered' is an amazing song by O.A.R.   \n",
       "11057                               hiya!  did you get a picture of your converse?? GET YOUR CONVERSE OUT!   \n",
       "15424                                                                      Happy Mama`s day to all mothers   \n",
       "9947                                                                   Will try to make it there at 6:30pm   \n",
       "\n",
       "                                                                selected_text  \\\n",
       "25212                                                               D= indeed   \n",
       "19875                                                              e terrible   \n",
       "17826                                    I really wish i would hear from josh   \n",
       "9905                                                                     Yayy   \n",
       "19773                                                                   fresh   \n",
       "21691                          _B if you`re in leeds you can have one from me   \n",
       "20649                                                                 amazing   \n",
       "11057  hiya!  did you get a picture of your converse?? GET YOUR CONVERSE OUT!   \n",
       "15424                                                                   Happy   \n",
       "9947                                      Will try to make it there at 6:30pm   \n",
       "\n",
       "      sentiment  \n",
       "25212   neutral  \n",
       "19875  negative  \n",
       "17826   neutral  \n",
       "9905   positive  \n",
       "19773  positive  \n",
       "21691   neutral  \n",
       "20649  positive  \n",
       "11057   neutral  \n",
       "15424  positive  \n",
       "9947    neutral  "
      ]
     },
     "execution_count": 5,
     "metadata": {},
     "output_type": "execute_result"
    }
   ],
   "source": [
    "#Show a random sample of 10 tweets\n",
    "df.sample(10)\n"
   ]
  },
  {
   "cell_type": "markdown",
   "id": "bfa3ef00-9791-4f66-80db-8d15e97c1779",
   "metadata": {},
   "source": [
    " "
   ]
  },
  {
   "cell_type": "markdown",
   "id": "7c222e58-81ba-449a-9d09-c44e32a7ad41",
   "metadata": {},
   "source": [
    "**Checking number of entries and data type per column**"
   ]
  },
  {
   "cell_type": "code",
   "execution_count": 6,
   "id": "ed1d6a1c-4f0b-452a-aec2-c8a58f56e528",
   "metadata": {},
   "outputs": [
    {
     "name": "stdout",
     "output_type": "stream",
     "text": [
      "<class 'pandas.core.frame.DataFrame'>\n",
      "RangeIndex: 27481 entries, 0 to 27480\n",
      "Data columns (total 4 columns):\n",
      " #   Column         Non-Null Count  Dtype \n",
      "---  ------         --------------  ----- \n",
      " 0   textID         27481 non-null  object\n",
      " 1   text           27480 non-null  object\n",
      " 2   selected_text  27480 non-null  object\n",
      " 3   sentiment      27481 non-null  object\n",
      "dtypes: object(4)\n",
      "memory usage: 858.9+ KB\n"
     ]
    }
   ],
   "source": [
    "#Inspect columns, data types, number of non-null entries\n",
    "df.info()\n"
   ]
  },
  {
   "cell_type": "markdown",
   "id": "6be593be-a86c-4989-a247-644c83e57076",
   "metadata": {},
   "source": [
    " "
   ]
  },
  {
   "cell_type": "markdown",
   "id": "c11276be-4a49-4c12-a672-828587a084d3",
   "metadata": {},
   "source": [
    "**Descriptive Statistics**"
   ]
  },
  {
   "cell_type": "code",
   "execution_count": 7,
   "id": "8c4b9c00-66f9-484e-ac81-51453a115685",
   "metadata": {},
   "outputs": [
    {
     "data": {
      "text/html": [
       "<div>\n",
       "<style scoped>\n",
       "    .dataframe tbody tr th:only-of-type {\n",
       "        vertical-align: middle;\n",
       "    }\n",
       "\n",
       "    .dataframe tbody tr th {\n",
       "        vertical-align: top;\n",
       "    }\n",
       "\n",
       "    .dataframe thead th {\n",
       "        text-align: right;\n",
       "    }\n",
       "</style>\n",
       "<table border=\"1\" class=\"dataframe\">\n",
       "  <thead>\n",
       "    <tr style=\"text-align: right;\">\n",
       "      <th></th>\n",
       "      <th>count</th>\n",
       "      <th>unique</th>\n",
       "      <th>top</th>\n",
       "      <th>freq</th>\n",
       "    </tr>\n",
       "  </thead>\n",
       "  <tbody>\n",
       "    <tr>\n",
       "      <th>textID</th>\n",
       "      <td>27481</td>\n",
       "      <td>27481</td>\n",
       "      <td>cb774db0d1</td>\n",
       "      <td>1</td>\n",
       "    </tr>\n",
       "    <tr>\n",
       "      <th>text</th>\n",
       "      <td>27480</td>\n",
       "      <td>27480</td>\n",
       "      <td>I`d have responded, if I were going</td>\n",
       "      <td>1</td>\n",
       "    </tr>\n",
       "    <tr>\n",
       "      <th>selected_text</th>\n",
       "      <td>27480</td>\n",
       "      <td>22463</td>\n",
       "      <td>good</td>\n",
       "      <td>199</td>\n",
       "    </tr>\n",
       "    <tr>\n",
       "      <th>sentiment</th>\n",
       "      <td>27481</td>\n",
       "      <td>3</td>\n",
       "      <td>neutral</td>\n",
       "      <td>11118</td>\n",
       "    </tr>\n",
       "  </tbody>\n",
       "</table>\n",
       "</div>"
      ],
      "text/plain": [
       "               count unique                                   top   freq\n",
       "textID         27481  27481                            cb774db0d1      1\n",
       "text           27480  27480   I`d have responded, if I were going      1\n",
       "selected_text  27480  22463                                  good    199\n",
       "sentiment      27481      3                               neutral  11118"
      ]
     },
     "execution_count": 7,
     "metadata": {},
     "output_type": "execute_result"
    }
   ],
   "source": [
    "#get statistical overview \n",
    "df.describe().T"
   ]
  },
  {
   "cell_type": "markdown",
   "id": "b99d8f4c-5dd2-4e22-9cdc-74df474db381",
   "metadata": {},
   "source": [
    " "
   ]
  },
  {
   "cell_type": "markdown",
   "id": "2a3daa9b",
   "metadata": {},
   "source": [
    "**Drop empty rows**"
   ]
  },
  {
   "cell_type": "code",
   "execution_count": 8,
   "id": "c03099b1",
   "metadata": {},
   "outputs": [
    {
     "name": "stdout",
     "output_type": "stream",
     "text": [
      "Number of empty rows: 0\n"
     ]
    }
   ],
   "source": [
    "#Drop null entries \n",
    "df = df.dropna(ignore_index=True)\n",
    "\n",
    "#report number of empty rows after dropping \n",
    "print('Number of empty rows:', df.isnull().sum().sum())\n"
   ]
  },
  {
   "cell_type": "markdown",
   "id": "8cd1cae0-1e39-4348-adfe-3cead621219e",
   "metadata": {},
   "source": [
    "Now having gleaned a general overview of the data, we can proceed to part two: preparing and preprocessing the data to make it ready for model development and training."
   ]
  },
  {
   "cell_type": "markdown",
   "id": "63eab288",
   "metadata": {},
   "source": [
    "<br>"
   ]
  },
  {
   "cell_type": "markdown",
   "id": "70e74205-0cbf-4d63-9e90-1bf43984fbd1",
   "metadata": {},
   "source": [
    "<a id=\"data-preparation-and-preprocessing\"></a>\n",
    "## Part Two: Data Preparation and Preprocessing\n",
    "In this section, I will start preparing the data and performing text preprocessing on the tweets column in anticipation of modelling the data. First, I will start with the target variable, sentiment, performing label encoding to give numeric labels to the sentiment classes and make them viable for analysis. Then, I will turn to the text data (tweets), performing text preprocessing to cut through the clutter and filter the text to its most informative elements. This process will consist of the following:\n",
    "\n",
    "1. Lowercasing and removing whitespaces \n",
    "2. Removing hyperlinks \n",
    "3. Removing mentions and hashtags \n",
    "4. Removing punctuations \n",
    "5. Removing stop words \n",
    "6. Lemmatizing the text, particularly nouns, reducing each to its dictionary root. \n",
    "7. Removing emojis, emoticons, and symbols. \n",
    "8. Text tokenization, converting text sequences to numeric sequences, whereby words are represented as unique numeric tokens.\n",
    "9. Sequence padding, ensuring all sequences are of the same size. \n",
    "<br>\n",
    "\n",
    "This should help make the analysis concise and focused on what's most relevant in the text and thus facilitate sentiment analysis and classification. Finally, having preprocessed the text thoroughly, I will identify the predictor and target variables and perform data splitting. I shall start with label encoding.\n",
    "<br><br>"
   ]
  },
  {
   "cell_type": "markdown",
   "id": "117c8632-d6ca-4cca-b2ba-f4d1b8eadd82",
   "metadata": {},
   "source": [
    " "
   ]
  },
  {
   "cell_type": "markdown",
   "id": "6685e331",
   "metadata": {},
   "source": [
    "**Label Encoding** <br>\n",
    "\n",
    "For label encoding, I will assign 0 to neutral, 1 to positive sentiments, and 2 to negative ones."
   ]
  },
  {
   "cell_type": "code",
   "execution_count": 9,
   "id": "c6a06576",
   "metadata": {},
   "outputs": [],
   "source": [
    "#Perform label encoding on the target class\n",
    "classes = {'neutral': 0, 'positive': 1, 'negative': 2}\n",
    "\n",
    "#Replace string labels with numeric labels\n",
    "df['sentiment'] = df['sentiment'].replace(classes)\n"
   ]
  },
  {
   "cell_type": "markdown",
   "id": "59cf020f",
   "metadata": {},
   "source": [
    "**Class Distribution**"
   ]
  },
  {
   "cell_type": "code",
   "execution_count": 10,
   "id": "eefd0a82",
   "metadata": {},
   "outputs": [
    {
     "name": "stdout",
     "output_type": "stream",
     "text": [
      "Class Distribution (in %):\n",
      "\n",
      "sentiment\n",
      "0    40.45%\n",
      "1    31.23%\n",
      "2    28.32%\n",
      "Name: proportion, dtype: object \n",
      "\n",
      "\n"
     ]
    },
    {
     "data": {
      "image/png": "[encoded data removed]",
      "text/plain": [
       "<Figure size 1000x700 with 1 Axes>"
      ]
     },
     "metadata": {},
     "output_type": "display_data"
    }
   ],
   "source": [
    "#Examine Class Distribution \n",
    "print('Class Distribution (in %):\\n')\n",
    "print(df['sentiment'].value_counts(normalize=True).apply(lambda x: f'{x*100:.2f}%'),'\\n\\n')\n",
    "\n",
    "#Visualizing the class distribution using count plot\n",
    "plt.figure(figsize=(10,7))\n",
    "ax = sns.countplot(x=df['sentiment'], hue=df['sentiment'], order=[2,0,1], hue_order=[2,0,1], saturation=.6, palette='Set1')\n",
    "ax.set_title('Class Distribution', fontsize=20, pad=14)\n",
    "ax.set_xlabel('Sentiment', fontsize=14)\n",
    "ax.set_xticklabels(['negative', 'neutral', 'positive'])\n",
    "ax.legend(labels=['negative', 'neutral', 'positive'])\n",
    "plt.show()\n"
   ]
  },
  {
   "cell_type": "markdown",
   "id": "bf713f28",
   "metadata": {},
   "source": [
    " "
   ]
  },
  {
   "cell_type": "markdown",
   "id": "515b3ad2",
   "metadata": {},
   "source": [
    "### Text Preprocessing\n",
    "\n",
    "Now I will proceed to deal with the text data in particular. To facilitate the process, I will create a custom function that handles most of the text processing steps in one go and apply it on the dataset. This function, `preprocess_text`, should normalize the text, remove hyperlinks, mentions, hashtags, punctuations, and stopwords, and lastly lemmatize the text. I will also create a second function, `remove_emojis`, that will identify and remove all emojis, emoticons and symbols from the data. This should output a completely clean version of the text. Finally, I will perform text tokenization and padding."
   ]
  },
  {
   "cell_type": "code",
   "execution_count": 11,
   "id": "f361724c",
   "metadata": {},
   "outputs": [
    {
     "name": "stdout",
     "output_type": "stream",
     "text": [
      "Sample of preprocessed text:\n",
      "\n"
     ]
    },
    {
     "data": {
      "text/plain": [
       "21759                                                    want new moon ahh im going crazy\n",
       "5950     wow god whole ui sooo much snappier responsive tweetdeck tweet feel like ims lol\n",
       "6753                                                                      public bathroom\n",
       "16155                                                  lunch w jason deli stepped dog poo\n",
       "21194                  say impossible plurk work system administrator closed access firew\n",
       "Name: text_preprocessed, dtype: object"
      ]
     },
     "execution_count": 11,
     "metadata": {},
     "output_type": "execute_result"
    }
   ],
   "source": [
    "#Instantiate nltk's lemmatizer and stop words' list\n",
    "lemmatizer = WordNetLemmatizer()\n",
    "stop_words = set(stopwords.words('english'))\n",
    "\n",
    "\n",
    "#Preprocessing function\n",
    "def preprocess_text(text):\n",
    "    text = text.lower().strip()  #lowercase and remove whitespaces\n",
    "    text = re.sub(r\"http\\S+|www\\S+|https\\S+\", '', text, flags=re.MULTILINE)  #remove URLs \n",
    "    text = re.sub(r'@\\w+|#\\w+', '', text)  #remove mentions and hashtags\n",
    "    text = re.sub(f'[{re.escape(string.punctuation)}]', '', text)  #remove punctuations\n",
    "    text = text.split()   #split string to list\n",
    "    text = [word for word in text if word not in stop_words]  #remove stop words \n",
    "    text = [lemmatizer.lemmatize(word) for word in text]   #lemmatize text (nouns)\n",
    "    return ' '.join(text)\n",
    "\n",
    "#Define a function to remove emojis and emoticons from text\n",
    "def remove_emojis(text):\n",
    "    #Regex pattern to match emojis and emoticons\n",
    "    emoji_pattern = re.compile(\n",
    "        \"[\"\n",
    "        u\"\\U0001F600-\\U0001F64F\"  #emoticons\n",
    "        u\"\\U0001F300-\\U0001F5FF\"  #symbols & pictographs\n",
    "        u\"\\U0001F680-\\U0001F6FF\"  #transport & map symbols\n",
    "        u\"\\U0001F700-\\U0001F77F\"  #alchemical symbols\n",
    "        u\"\\U0001F1E0-\\U0001F1FF\"  #flags (iOS)\n",
    "        \"]+\", flags=re.UNICODE)\n",
    "    return emoji_pattern.sub(r'', text)  #remove emojis\n",
    "\n",
    "\n",
    "#Preprocess all tweets and save into new column\n",
    "df['text_preprocessed'] = df['text'].apply(preprocess_text).replace('', np.nan)\n",
    "\n",
    "#Drop empty rows\n",
    "df = df.dropna(ignore_index=True)\n",
    "\n",
    "#Apply second function to remove all symbols and emojis \n",
    "df['text_preprocessed'] = df['text_preprocessed'].apply(remove_emojis)\n",
    "\n",
    "\n",
    "#preview a sample after preprocessing\n",
    "print('Sample of preprocessed text:\\n')\n",
    "df['text_preprocessed'].sample(5)\n"
   ]
  },
  {
   "cell_type": "markdown",
   "id": "5375cdbd",
   "metadata": {},
   "source": [
    " "
   ]
  },
  {
   "cell_type": "markdown",
   "id": "89d0d379",
   "metadata": {},
   "source": [
    "**Text tokenization**"
   ]
  },
  {
   "cell_type": "code",
   "execution_count": 12,
   "id": "97aec065",
   "metadata": {},
   "outputs": [
    {
     "name": "stdout",
     "output_type": "stream",
     "text": [
      "vocabulary size: 25541\n"
     ]
    }
   ],
   "source": [
    "#Instantiate tokenizer \n",
    "tokenizer = Tokenizer()\n",
    "\n",
    "#tokenize text corpus \n",
    "tokenizer.fit_on_texts(df['text_preprocessed'])\n",
    "\n",
    "#convert the text into sequences of word indice\n",
    "df['text_preprocessed'] = tokenizer.texts_to_sequences(df['text_preprocessed'])\n",
    "\n",
    "#get token indices and report vocabulary size\n",
    "word2idx = tokenizer.word_index\n",
    "idx2word = {idx: word for word, idx in word2idx.items()}\n",
    "vocab_size = len(word2idx) + 1\n",
    "print('vocabulary size:', vocab_size)\n"
   ]
  },
  {
   "cell_type": "markdown",
   "id": "e728f7ef",
   "metadata": {},
   "source": [
    "**Sequence padding**"
   ]
  },
  {
   "cell_type": "code",
   "execution_count": 13,
   "id": "4d343af8",
   "metadata": {},
   "outputs": [
    {
     "data": {
      "text/html": [
       "<div>\n",
       "<style scoped>\n",
       "    .dataframe tbody tr th:only-of-type {\n",
       "        vertical-align: middle;\n",
       "    }\n",
       "\n",
       "    .dataframe tbody tr th {\n",
       "        vertical-align: top;\n",
       "    }\n",
       "\n",
       "    .dataframe thead th {\n",
       "        text-align: right;\n",
       "    }\n",
       "</style>\n",
       "<table border=\"1\" class=\"dataframe\">\n",
       "  <thead>\n",
       "    <tr style=\"text-align: right;\">\n",
       "      <th></th>\n",
       "      <th>textID</th>\n",
       "      <th>text</th>\n",
       "      <th>selected_text</th>\n",
       "      <th>sentiment</th>\n",
       "      <th>text_preprocessed</th>\n",
       "    </tr>\n",
       "  </thead>\n",
       "  <tbody>\n",
       "    <tr>\n",
       "      <th>10360</th>\n",
       "      <td>f0b7a05584</td>\n",
       "      <td>Thanks for the heads up, Ethan. Watching it now</td>\n",
       "      <td>Thanks</td>\n",
       "      <td>1</td>\n",
       "      <td>[34, 198, 6438, 84, 0, 0, 0, 0, 0, 0, 0, 0, 0, 0, 0, 0, 0, 0, 0, 0, 0, 0, 0, 0, 0]</td>\n",
       "    </tr>\n",
       "    <tr>\n",
       "      <th>12944</th>\n",
       "      <td>50356857dc</td>\n",
       "      <td>Is sooo waking both of them up on my way back to SB  good night america</td>\n",
       "      <td>Is sooo waking both of them up on my way back to SB  good night america</td>\n",
       "      <td>1</td>\n",
       "      <td>[315, 893, 68, 21, 3245, 3, 25, 1194, 0, 0, 0, 0, 0, 0, 0, 0, 0, 0, 0, 0, 0, 0, 0, 0, 0]</td>\n",
       "    </tr>\n",
       "    <tr>\n",
       "      <th>15160</th>\n",
       "      <td>8dd4fb2c3f</td>\n",
       "      <td>There are some great honey based recipes for you &amp; the kids to download  at -  http://twurl.nl/l...</td>\n",
       "      <td>great ho</td>\n",
       "      <td>1</td>\n",
       "      <td>[37, 1274, 2121, 1870, 201, 1049, 758, 48, 1274, 46, 0, 0, 0, 0, 0, 0, 0, 0, 0, 0, 0, 0, 0, 0, 0]</td>\n",
       "    </tr>\n",
       "    <tr>\n",
       "      <th>14710</th>\n",
       "      <td>a907a8f7ee</td>\n",
       "      <td>Wal-Mart orientation...it`s work, but seriously...this sucks</td>\n",
       "      <td>Wal-Mart orientation...it`s work, but seriously...this sucks</td>\n",
       "      <td>2</td>\n",
       "      <td>[2251, 17957, 10, 17958, 105, 0, 0, 0, 0, 0, 0, 0, 0, 0, 0, 0, 0, 0, 0, 0, 0, 0, 0, 0, 0]</td>\n",
       "    </tr>\n",
       "    <tr>\n",
       "      <th>25436</th>\n",
       "      <td>4c0e5429a0</td>\n",
       "      <td>haha, sorry, it`s past my bedtime</td>\n",
       "      <td>sorry,</td>\n",
       "      <td>2</td>\n",
       "      <td>[43, 54, 527, 1548, 0, 0, 0, 0, 0, 0, 0, 0, 0, 0, 0, 0, 0, 0, 0, 0, 0, 0, 0, 0, 0]</td>\n",
       "    </tr>\n",
       "  </tbody>\n",
       "</table>\n",
       "</div>"
      ],
      "text/plain": [
       "           textID  \\\n",
       "10360  f0b7a05584   \n",
       "12944  50356857dc   \n",
       "15160  8dd4fb2c3f   \n",
       "14710  a907a8f7ee   \n",
       "25436  4c0e5429a0   \n",
       "\n",
       "                                                                                                      text  \\\n",
       "10360                                                      Thanks for the heads up, Ethan. Watching it now   \n",
       "12944                              Is sooo waking both of them up on my way back to SB  good night america   \n",
       "15160  There are some great honey based recipes for you & the kids to download  at -  http://twurl.nl/l...   \n",
       "14710                                         Wal-Mart orientation...it`s work, but seriously...this sucks   \n",
       "25436                                                                    haha, sorry, it`s past my bedtime   \n",
       "\n",
       "                                                                 selected_text  \\\n",
       "10360                                                                   Thanks   \n",
       "12944  Is sooo waking both of them up on my way back to SB  good night america   \n",
       "15160                                                                 great ho   \n",
       "14710             Wal-Mart orientation...it`s work, but seriously...this sucks   \n",
       "25436                                                                   sorry,   \n",
       "\n",
       "       sentiment  \\\n",
       "10360          1   \n",
       "12944          1   \n",
       "15160          1   \n",
       "14710          2   \n",
       "25436          2   \n",
       "\n",
       "                                                                                       text_preprocessed  \n",
       "10360                 [34, 198, 6438, 84, 0, 0, 0, 0, 0, 0, 0, 0, 0, 0, 0, 0, 0, 0, 0, 0, 0, 0, 0, 0, 0]  \n",
       "12944           [315, 893, 68, 21, 3245, 3, 25, 1194, 0, 0, 0, 0, 0, 0, 0, 0, 0, 0, 0, 0, 0, 0, 0, 0, 0]  \n",
       "15160  [37, 1274, 2121, 1870, 201, 1049, 758, 48, 1274, 46, 0, 0, 0, 0, 0, 0, 0, 0, 0, 0, 0, 0, 0, 0, 0]  \n",
       "14710          [2251, 17957, 10, 17958, 105, 0, 0, 0, 0, 0, 0, 0, 0, 0, 0, 0, 0, 0, 0, 0, 0, 0, 0, 0, 0]  \n",
       "25436                 [43, 54, 527, 1548, 0, 0, 0, 0, 0, 0, 0, 0, 0, 0, 0, 0, 0, 0, 0, 0, 0, 0, 0, 0, 0]  "
      ]
     },
     "execution_count": 13,
     "metadata": {},
     "output_type": "execute_result"
    }
   ],
   "source": [
    "#Get maximum sequence length\n",
    "max_seq_len = max([len(seq) for seq in df['text_preprocessed']])\n",
    "\n",
    "#apply padding\n",
    "df['text_preprocessed'] = list(pad_sequences(df['text_preprocessed'], padding='post', maxlen=max_seq_len))\n",
    "\n",
    "#Preview data sample\n",
    "df.sample(5)\n"
   ]
  },
  {
   "cell_type": "markdown",
   "id": "8feacbb5",
   "metadata": {},
   "source": []
  },
  {
   "cell_type": "markdown",
   "id": "66cd818c",
   "metadata": {},
   "source": [
    "**Data Selection**"
   ]
  },
  {
   "cell_type": "code",
   "execution_count": 14,
   "id": "bd667fe7",
   "metadata": {},
   "outputs": [],
   "source": [
    "#Data Selection\n",
    "#Identify predictor and target variables\n",
    "X_data = df['text_preprocessed']\n",
    "y_data = df['sentiment'].values\n"
   ]
  },
  {
   "cell_type": "markdown",
   "id": "33f7528b",
   "metadata": {},
   "source": [
    " "
   ]
  },
  {
   "cell_type": "markdown",
   "id": "b036865a",
   "metadata": {},
   "source": [
    "**Stratified Data Splitting**"
   ]
  },
  {
   "cell_type": "code",
   "execution_count": 16,
   "id": "3d18ea75",
   "metadata": {},
   "outputs": [
    {
     "name": "stdout",
     "output_type": "stream",
     "text": [
      "Number of training samples: 19,187\n",
      "Number of validation samples: 5,509\n",
      "Number of testing samples: 2,714\n"
     ]
    }
   ],
   "source": [
    "#Obtain training, testing, and validation sets (70% training / 15% testing / 15% validation)\n",
    "#first split 70/30\n",
    "X_train, X_temp, y_train, y_temp = train_test_split(X_data, y_data, train_size=0.7, stratify=y_data, random_state=rs)\n",
    "\n",
    "#second split 67/33\n",
    "X_val, X_test, y_val, y_test = train_test_split(X_temp, y_temp, test_size=0.33, stratify=y_temp,  random_state=rs)\n",
    "\n",
    "#Convert data to numpy arrays\n",
    "X_train = tf.convert_to_tensor(X_train.tolist(), dtype=tf.int32)\n",
    "X_val = tf.convert_to_tensor(X_val.tolist(), dtype=tf.int32)\n",
    "X_test = tf.convert_to_tensor(X_test.tolist(), dtype=tf.int32)\n",
    "\n",
    "#Check the sizes of the training, validation and testing sets\n",
    "print(f'Number of training samples: {X_train.shape[0]:,}')    \n",
    "print(f'Number of validation samples: {X_val.shape[0]:,}')    \n",
    "print(f'Number of testing samples: {X_test.shape[0]:,}')\n"
   ]
  },
  {
   "cell_type": "markdown",
   "id": "d64dd34e",
   "metadata": {},
   "source": [
    "*Now data preprocessing is complete. I will now proceed to model development and training...*"
   ]
  },
  {
   "cell_type": "markdown",
   "id": "579b5187",
   "metadata": {},
   "source": [
    "<br>"
   ]
  },
  {
   "cell_type": "markdown",
   "id": "bf90bf4c",
   "metadata": {},
   "source": [
    "<a id=\"model-development-and-evaluation\"></a>\n",
    "## Part Three: Model Development and Evaluation \n",
    "\n",
    "In this section, I will develop, train and evaluate a recurrent neural network for the present task of sentiment analysis. Well, first I will attempt to establish a baseline for performance by training a simple classification model, particularly a logistic regression model. Then, I will proceed to building the network to compare the results. This network should roughly consist of embedding layer, a sentiment mask layer for attention to sentimental or sentiment-adjascent terms, a bidirectional LSTM layer, a trainable self-attention layer, and finally a classification layer, as well as optimization and dropout layers in between (*see full architecture below*). What makes this network particularly special is the attentional capabilities built into it, making it particularly specialized for the task of sentiment analysis.  With that being said, I shall proceed with establishing a performance baseline for the network to come. \n",
    "<br>\n",
    "<br>"
   ]
  },
  {
   "cell_type": "markdown",
   "id": "b78d9002",
   "metadata": {},
   "source": [
    "**Establishing a Performance Baseline**"
   ]
  },
  {
   "cell_type": "code",
   "execution_count": 17,
   "id": "d7c5742a",
   "metadata": {},
   "outputs": [
    {
     "name": "stdout",
     "output_type": "stream",
     "text": [
      "Logistic Regression classification results:\n"
     ]
    },
    {
     "data": {
      "text/html": [
       "<div>\n",
       "<style scoped>\n",
       "    .dataframe tbody tr th:only-of-type {\n",
       "        vertical-align: middle;\n",
       "    }\n",
       "\n",
       "    .dataframe tbody tr th {\n",
       "        vertical-align: top;\n",
       "    }\n",
       "\n",
       "    .dataframe thead th {\n",
       "        text-align: right;\n",
       "    }\n",
       "</style>\n",
       "<table border=\"1\" class=\"dataframe\">\n",
       "  <thead>\n",
       "    <tr style=\"text-align: right;\">\n",
       "      <th></th>\n",
       "      <th>neutral</th>\n",
       "      <th>positive</th>\n",
       "      <th>negative</th>\n",
       "    </tr>\n",
       "  </thead>\n",
       "  <tbody>\n",
       "    <tr>\n",
       "      <th>Accuracy</th>\n",
       "      <td>0.40</td>\n",
       "      <td>0.40</td>\n",
       "      <td>0.40</td>\n",
       "    </tr>\n",
       "    <tr>\n",
       "      <th>Precision</th>\n",
       "      <td>0.41</td>\n",
       "      <td>0.38</td>\n",
       "      <td>0.30</td>\n",
       "    </tr>\n",
       "    <tr>\n",
       "      <th>Recall</th>\n",
       "      <td>0.95</td>\n",
       "      <td>0.04</td>\n",
       "      <td>0.02</td>\n",
       "    </tr>\n",
       "    <tr>\n",
       "      <th>F1 score</th>\n",
       "      <td>0.57</td>\n",
       "      <td>0.08</td>\n",
       "      <td>0.05</td>\n",
       "    </tr>\n",
       "  </tbody>\n",
       "</table>\n",
       "</div>"
      ],
      "text/plain": [
       "           neutral  positive  negative\n",
       "Accuracy      0.40      0.40      0.40\n",
       "Precision     0.41      0.38      0.30\n",
       "Recall        0.95      0.04      0.02\n",
       "F1 score      0.57      0.08      0.05"
      ]
     },
     "execution_count": 17,
     "metadata": {},
     "output_type": "execute_result"
    }
   ],
   "source": [
    "#Instantiate a logistic regression object\n",
    "LR = LogisticRegression(max_iter=500, random_state=rs)\n",
    "\n",
    "#fit the model\n",
    "model = LR.fit(X_train, y_train)\n",
    "\n",
    "#generate predictions\n",
    "y_pred = model.predict(X_test)\n",
    "\n",
    "#report error scores \n",
    "print('Logistic Regression classification results:')\n",
    "error_scores(y_test, y_pred, accuracy_score(y_test, y_pred), classes=classes)\n"
   ]
  },
  {
   "cell_type": "markdown",
   "id": "532b9ef6",
   "metadata": {},
   "source": [
    " "
   ]
  },
  {
   "cell_type": "markdown",
   "id": "942ba5b1",
   "metadata": {},
   "source": [
    "As seen for the results of the baseline logistic regression model, not much was gleaned from the data, with an overall accuracy score of 0.40. This is strikingly so for the positive and negative sentiments, with a modest precision scores and recall and F1 scores below 0.1 for both! Well, this should be expected for, indeed, these simple machine learning models are not particularly made for dealing with text data or natural language processing (NLP), unlike neural networks with specialized layers. Nonetheless, I will use this as a starting point, a baseline, against which I will compare the performance of the neural network to be built after training, which will give us a rough idea about how it fares relative to traditional machine learning models like this one. "
   ]
  },
  {
   "cell_type": "markdown",
   "id": "ab9a2e9a",
   "metadata": {},
   "source": [
    " "
   ]
  },
  {
   "cell_type": "markdown",
   "id": "98fb72c4",
   "metadata": {},
   "source": [
    "### Model Design and Architecture <br>\n",
    "\n",
    "Now we turn to model development. In this part, I will elaborate on the design of the network and the preparatory steps required for building it. The chief purpose of this network is to learn the appropriate embeddings by modeling a large collection of tweets and their corresponding sentiment labels so that it's able to perform sentiment analysis and thus become capable of identifying the sentiments most appropriate to any given tweet, especially in the case of positive and negative sentiments. As such, overall it will perform word embeddings, focusing more heavily on sentiment embeddings; attend to local patterns and word combinations most predictive; learn context and semantic dependencies between words in a sentence; learn to attend to the most relevant/predictive details; and finally classify tweets based on what have been learned, labeling each tweet as either positive, negative, or neutral. To that end, this network will primarily cosist of the following layers:<br>\n",
    "<div style=\"padding-left: 1em; max-width: 1350px;\">\n",
    "<p style=\"line-height: 1.5;\">\n",
    "\n",
    "**(1) Embedding layer:** a word embedding layer for transforming word tokens into (300-dimensional) dense vectors that represent semantic relationships in the input word sequences fed to it. This layer will utilize GloVe's pre-trained embedding weights for a start, but will remain trainable. <br>\n",
    "\n",
    "**(2) Gaussian Noise layer:** this noise layer, enabled only during training, will introduce slight purtubations or noise into the learned word representations to help the model generalize better and reduce overfitting on the training data, forcing the network to rely on more stable and robust patterns. <br>\n",
    "\n",
    "**(3) Sentiment Mask layer:** this masking layer will take in the embeddings from the earlier layer and the input word tokens and apply additional emphasis on sentiment terms, increasing their respective weights by a certain factor. To perform masking appropriately, I used a dictionary of sentimental or sentiment-laden terms (collected from EmoLex), and tokenized it using the same tokenizer for current text corpus to allow direct comparisons based on this particular dataset. <br>\n",
    "\n",
    "**(4) Self-Attention layer:** a scaled dot-product attention layer with trainable weights to help selectively focus on the most relevant words relative to their sequences overall, even if far apart in time, assigning added weight to these terms deemed relevant or important for predicting sentiment. Such self-attention layers are particularly good for short and noisy data like tweets with a lot of slang and abrupt transitions. Further, placed after the sentiment mask layer, and before the convolutional layers, this layer would, on the one hand, quickly spot crucial sentiment-laden tokens emphasized by the earlier before it and add further emphasis on them before structural modeling dilutes them later on, while, on the other hand, feeding a cleaner, better curated inputs to the later convolutional layers for improved feature extraction. <br>\n",
    "\n",
    "**(5) Convolutional 1D and Max Pooling layers:** two parallel convolutional 1D layers with kernel sizes of 3 and 4 followed by max pooling layers for n-grams processing to detect and extract local n-gram patterns from the sequences (similar to how 2D convolutions in convolutional neural networks scan for local spatial features in images), which would help capture word combinations most predictive or important in a given sequence (instead of relying on singular terms). The first convolutional layer will use a kernel size of 3 for extracting 3-gram features (e.g., \"very good movie\"), while the second will use a kernel size of 4 for extracting 4-gram features (e.g., \"not my best day\"), which should accordingly help the network better perform sentiment analysis using the local patterns detected. The output from these layers will then be combined using a Concatenate layer and reshaped for subsequent processing the LSTM layer.<br>\n",
    "\n",
    "**(6) Bidirectional Long-Short Term (LSTM) layer:** a specialized variant of a recurrent layer designed to capture temporal or semantic dependencies within the text sequences (sentences) and establishing long-term context. This layer will also be bidirectional, meaning that it will encode past and future contexts, scanning the sequences forwards and backwards, which should yield a richer context for understanding the text before producing sentiment classifications. <br>\n",
    "\n",
    "**(7) Global Average Pooling 1D layer:** this layer compresses the variable-length sequence output from the self-attention layer into a fixed-size vector by averaging across all time steps. This vector would serve as a distilled summary of the most relevant features across the input.\n",
    "\n",
    "\n",
    "**(8) Dense layer for classification:** a final dense layer with 3 units and softmax activation for multi-class classification, producing probability scores for each sentiment category (neutral, positive, negative).\n",
    "<br>\n",
    "<p style=\"font-size: 16px;\"> \n",
    "<i>In addition to these layers, the network will be peppered with dropout layers and regularization techniques throughout to further prevent overfitting and promote generalizability.</i>\n",
    "</p>\n",
    "</p></div>\n",
    "<br>\n",
    "<br>\n",
    "\n",
    "**The following diagram illustrates the full model architecture**: <br>\n",
    "<br>\n",
    "<br>\n",
    "\n",
    "<pre>\n",
    "                                                       Input\n",
    "                            ┌─────────────────── (token sequences)\n",
    "                            │                            │\n",
    "                            │                            ▼\n",
    "                            │          ┌────────────────────────────────────┐\n",
    "                            │          │          Embedding Layer           │\n",
    "                            │          │ (with pre-trained GloVe weights;   │\n",
    "                            │          │ input=vocab_size, output=300 dims) │\n",
    "                            │          └────────────────────────────────────┘\n",
    "                            │                            ↓\n",
    "                            │                  ┌────────────────────┐\n",
    "                            │                  │    Dropout layer   │\n",
    "                            │                  │     (rate=0.5)     │\n",
    "                            │                  └────────────────────┘\n",
    "                            │                            │\n",
    "                            │                            ▼\n",
    "                            │   ┌──────────────────────────────────────────────────┐\n",
    "                            │   │  Gaussian Noise Layer (std=0.08; training only)  │\n",
    "                            │   └──────────────────────────────────────────────────┘\n",
    "                            │                            │\n",
    "                            │                            ▼\n",
    "                            │          ┌────────────────────────────────────┐\n",
    "                            │          │       Sentiment Mask Layer         │\n",
    "                            └────────► │     (uses EmoLex's Lexicon to      │\n",
    "                                       │     emphasize emotional terms)     │\n",
    "                                       └────────────────────────────────────┘\n",
    "                                                         ↓\n",
    "                                               ┌────────────────────┐\n",
    "                                               │    Dropout layer   │\n",
    "                                               │     (rate=0.5)     │\n",
    "                                               └────────────────────┘\n",
    "                                                         │\n",
    "                                                         ▼\n",
    "                                        ┌────────────────────────────────────┐\n",
    "                                        │       Self-Attention Layer         │\n",
    "                                        │   (Scaled dot-product attention)   │\n",
    "                                        └────────────────────────────────────┘\n",
    "                                                         ↓\n",
    "                                               ┌────────────────────┐\n",
    "                                               │    Dropout layer   │\n",
    "                                           ┌───│     (rate=0.5)     │───┐\n",
    "                                           │   └────────────────────┘   │\n",
    "                                           │                            │\n",
    "                                           │                            │\n",
    "                                           │                            │\n",
    "                                           ▼                            ▼\n",
    "                                  ┌──────────────────┐          ┌──────────────────┐\n",
    "                                  │   Conv1D Layer   │          │   Conv1D Layer   │\n",
    "                                  │  (kernel_size=3) │          │  (kernel_size=4) │\n",
    "                                  └──────────────────┘          └──────────────────┘\n",
    "                                           ↓                             ↓\n",
    "                                    ┌────────────────┐           ┌────────────────┐\n",
    "                                    │  MaxPooling1D  │           │  MaxPooling1D  │\n",
    "                                    └────────────────┘           └────────────────┘\n",
    "                                           │                             │\n",
    "                                           ▼                             ▼\n",
    "                                   ┌─────────────────────────────────────────────┐\n",
    "                                   │  Concatenate Layer (merge 3-gram + 4-gram)  │\n",
    "                                   └─────────────────────────────────────────────┘\n",
    "                                                         │\n",
    "                                                         ▼\n",
    "                                           ┌───────────────────────────┐\n",
    "                                           │       Reshape Layer       │\n",
    "                                           │  (flatten to 1 timestep)  │\n",
    "                                           └───────────────────────────┘\n",
    "                                                         │\n",
    "                                                         ▼\n",
    "                                       ┌────────────────────────────────────┐\n",
    "                                       │     Bidirectional LSTM Layer       │\n",
    "                                       │     (128 units per direction,      │\n",
    "                                       │      return_sequences=True)        │\n",
    "                                       └────────────────────────────────────┘\n",
    "                                                         ↓\n",
    "                                              ┌──────────────────────┐\n",
    "                                              │  Spatial Dropout 1D  │\n",
    "                                              │     (rate=0.5)       │\n",
    "                                              └──────────────────────┘\n",
    "                                                         │\n",
    "                                                         ▼\n",
    "                                        ┌────────────────────────────────────┐\n",
    "                                        │     Global Average Pooling 1D      │\n",
    "                                        └────────────────────────────────────┘\n",
    "                                                         │\n",
    "                                                         ▼\n",
    "                                      ┌─────────────────────────────────────────┐\n",
    "                                      │          Dense Output Layer             │\n",
    "                                      │  (Softmax, 3 classes: pos/neg/neutral)  │\n",
    "                                      └─────────────────────────────────────────┘\n",
    "                                                         │\n",
    "                                                         ▼\n",
    "                                                       Output \n",
    "                                                (class probabilities)\n",
    "\n",
    "</pre>\n",
    "\n",
    "<br>\n",
    "<br>"
   ]
  },
  {
   "cell_type": "markdown",
   "id": "0d420fcf",
   "metadata": {},
   "source": [
    "### Pre-training Preparations <br>\n",
    "\n",
    "Now before training, a few preparations are imparative. As briefly mentioned, in order to give the embedding layer a head start and promote better learning, I will use Stanford's [GloVe (Global Vectors for Word Representation)]((https://nlp.stanford.edu/projects/glove/))'s pretrained embeddings instead of learning word semantic representations from scratch GloVe's embeddings have been trained on a very large text corpus with approximately 840 billion tokens which thus already capture a lot of general language understanding and semantic relationships between words. This will take off a lot of the heavy lifting of learning word meanings from scratch. Nonetheless, given that with tweets we are not dealing with straightforward traditional English but a lot of slang, I will make this layer trainable all the same. <br> \n",
    "\n",
    "Another prerequisite for training, particularly by the sentiment mask layer, is to prepare a lexicon of emotional and sentiment-bearing words that the layer can use for sentiment masking. For this task, I will utilize the National Research Council Canada (NRC)'s [Word-Emotion Association Lexicon](https://saifmohammad.com/WebPages/NRC-Emotion-Lexicon.htm) (or EmoLex). The NRC's Emotion Lexicon consists of a list of English words and their association with the 8 basic emotion categories and two overarching sentiment categories (positive and negative). I will extract out all the terms from the lexicon, cross-check them against the current text corpus, and tokenize the terms found in that corpus with the same tokenizer used for it, thus ensuring consistency between the emotional lexicon and the dataset's lexicon. I will now begin with building and tokenizeing the sentiment lexicon to be used by the sentiment mask layer, and then proceed to prepare the weights matrix for the embedding layer.\n"
   ]
  },
  {
   "cell_type": "markdown",
   "id": "b19d0cea",
   "metadata": {},
   "source": [
    "**Preparing a Sentiment Lexicon for Sentiment Masking (Using EmoLex)**"
   ]
  },
  {
   "cell_type": "code",
   "execution_count": 18,
   "id": "a1ef58cc",
   "metadata": {},
   "outputs": [
    {
     "name": "stdout",
     "output_type": "stream",
     "text": [
      "['peculiarity' 'coursing' 'suggest' 'cautiously' 'overload' 'larceny'\n",
      " 'caution' 'armament' 'philanthropist' 'prevention']\n"
     ]
    }
   ],
   "source": [
    "#Load NRC Emotion Lexicon into a dictionary\n",
    "emotional_words_set = set()\n",
    "with open(\"NRC-Emotion-Lexicon/NRC-Emotion-Lexicon-Wordlevel-v0.92.txt\", \"r\") as f:\n",
    "    for line in f:\n",
    "        word, emotion, association = line.strip().split(\"\\t\")\n",
    "        if int(association) == 1:\n",
    "            emotional_words_set.add(word)\n",
    "\n",
    "#sort and obtain final list\n",
    "emotional_words_lst = list(sorted(emotional_words_set))\n",
    "\n",
    "#Convert emotional words to their indices (if found)    \n",
    "sentiments_vocab_indices = [word2idx[word] for word in emotional_words_lst if word in word2idx]\n",
    "\n",
    "#Preview a sample \n",
    "print(np.random.choice(emotional_words_lst, 10))\n"
   ]
  },
  {
   "cell_type": "markdown",
   "id": "aaa281b1",
   "metadata": {},
   "source": [
    "**Preparing Embeddings Weight Matrix using GloVe**"
   ]
  },
  {
   "cell_type": "code",
   "execution_count": 19,
   "id": "00ea4394",
   "metadata": {},
   "outputs": [],
   "source": [
    "#Define embeddings dimensions \n",
    "embedding_dims = 300 \n",
    "\n",
    "#Create embeddings matrix using GloVe \n",
    "#build embeddings index from the GloVe text file\n",
    "embeddings_index = {}\n",
    "with open('glove.840B.300d.txt', encoding='utf8') as f:\n",
    "    for line in f:\n",
    "        values = line.split()\n",
    "        word = values[0]\n",
    "        vector_values = values[1:]\n",
    "        if len(vector_values) > embedding_dims:\n",
    "            vector_values = vector_values[-embedding_dims:]\n",
    "        coefs = np.asarray(vector_values, dtype='float32')\n",
    "        embeddings_index[word] = coefs\n",
    "\n",
    "#Create embedding matrix \n",
    "embedding_matrix = np.zeros((vocab_size, embedding_dims))\n",
    "for word, idx in word2idx.items():\n",
    "    embedding_vector = embeddings_index.get(word)\n",
    "    if embedding_vector is not None:\n",
    "        embedding_matrix[idx] = embedding_vector\n"
   ]
  },
  {
   "cell_type": "markdown",
   "id": "ccaa34c6",
   "metadata": {},
   "source": [
    " "
   ]
  },
  {
   "cell_type": "markdown",
   "id": "bbb62c18",
   "metadata": {},
   "source": [
    "### Model Development <br>\n",
    "\n",
    "Now with these preparatory steps complete, I will now start to build the model. Given some of the model layers are custom layers, not readily available with Keras, I will start with building the custom layers necessary for the task. First, I will build a custom sentiment mask layer by subclassing from Keras' Layer class, then I will build a trainable self-attention layer also by inheriting from Keras' Layer class. Thereafter, I will build the full network as a Keras model class using all the layers discussed. \n",
    "\n",
    "\n",
    "Now, it's worth mentioning that a lot of tuning and optimization was performed in advance in order to determine the architecture of the present network, which informed a lot of the choices made regarding its layers and number of units, etc."
   ]
  },
  {
   "cell_type": "markdown",
   "id": "128f16be",
   "metadata": {},
   "source": [
    "**Custom Sentiment Mask Layer**\n"
   ]
  },
  {
   "cell_type": "code",
   "execution_count": 20,
   "id": "047ea017",
   "metadata": {},
   "outputs": [],
   "source": [
    "#Define sentiment mask layer \n",
    "class SentimentMaskLayer(layers.Layer):\n",
    "    def __init__(self, sentiments_vocab_indices, sentiment_weighing_factor=1.0, **kwargs):\n",
    "        super(SentimentMaskLayer, self).__init__(**kwargs)\n",
    "        #Initialize parameters\n",
    "        self.sentiment_vocab_tensor = tf.constant([idx for idx in sentiments_vocab_indices], dtype=tf.int32)\n",
    "        self.sentiment_weighing_factor = sentiment_weighing_factor\n",
    "\n",
    "    def call(self, inputs):\n",
    "        #Inputs \n",
    "        embedding_outputs, text_tokens = inputs \n",
    "\n",
    "        #Compare all tokens with sentiment words\n",
    "        sentiment_matches = tf.reduce_any(tf.equal(tf.expand_dims(text_tokens, -1), self.sentiment_vocab_tensor), axis=-1)  #Shape: (batch_size, seq_len)\n",
    "\n",
    "        #Apply the sentiment weighting factor where matches are found \n",
    "        sentiment_mask = tf.cast(sentiment_matches, tf.float32) * self.sentiment_weighing_factor\n",
    "        sentiment_mask = tf.expand_dims(sentiment_mask, -1)   # Shape: (batch_size, seq_len, 1)\n",
    "\n",
    "        #Assign weight importances: Multiply by (1 + sentiment_mask) \n",
    "        return tf.cast(embedding_outputs * (1.0 + sentiment_mask), dtype=tf.float32)\n"
   ]
  },
  {
   "cell_type": "markdown",
   "id": "49d52a51",
   "metadata": {},
   "source": [
    "**Custom Self-Attention Layer**"
   ]
  },
  {
   "cell_type": "code",
   "execution_count": 21,
   "id": "14d03955",
   "metadata": {},
   "outputs": [],
   "source": [
    "#Define self-attention layer \n",
    "class SelfAttentionLayer(layers.Layer):\n",
    "    def __init__(self, **kwargs):\n",
    "        super().__init__(**kwargs)\n",
    "\n",
    "    def build(self, input_shape):\n",
    "        #Initialize weights for query, key, and value matrices\n",
    "        dims = input_shape[-1]   #input dimensions\n",
    "        self.WQ = self.add_weight(shape=(dims, dims), initializer='glorot_uniform', trainable=True)\n",
    "        self.WK = self.add_weight(shape=(dims, dims), initializer='glorot_uniform', trainable=True)\n",
    "        self.WV = self.add_weight(shape=(dims, dims), initializer='glorot_uniform', trainable=True)\n",
    "        super().build(input_shape)\n",
    "\n",
    "    def call(self, inputs):\n",
    "        #Compute query, key, and value matrices\n",
    "        Q = tf.matmul(inputs, self.WQ)\n",
    "        K = tf.matmul(inputs, self.WK)\n",
    "        V = tf.matmul(inputs, self.WV)\n",
    "\n",
    "        #Compute key matrix dimensions for scaling attention scores\n",
    "        d_k = tf.cast(tf.shape(K)[-1], tf.float32)\n",
    "\n",
    "        #Compute attention scores\n",
    "        attention_scores = tf.matmul(Q, K, transpose_b=True) / tf.sqrt(d_k)\n",
    "\n",
    "        #Compute attention weights \n",
    "        attention_weights = tf.nn.softmax(attention_scores, axis=-1)\n",
    "\n",
    "        #Multipy attention weights with value matrix to get attention output \n",
    "        attention_output = tf.matmul(attention_weights, V)  # shape: (batch_size, seq_len, features)\n",
    "        return attention_output\n",
    "\n"
   ]
  },
  {
   "cell_type": "markdown",
   "id": "43eb19c6",
   "metadata": {},
   "source": [
    "**Recurrent Neural Network Model**"
   ]
  },
  {
   "cell_type": "code",
   "execution_count": null,
   "id": "56577cbb",
   "metadata": {},
   "outputs": [],
   "source": [
    "#Create Keras model subclass to build a RNN model \n",
    "class RNN_Network(tf.keras.Model):    \n",
    "    def __init__(self, output_dims, embedding_input=50000, embedding_dims=300, LSTM_units=256,\n",
    "                 Conv1D_filters=128, sentiments_vocab_indices=None, sentiment_weighing_factor=1.0, **kwargs):\n",
    "        super().__init__(name='RNN_Network', **kwargs)\n",
    "\n",
    "        #Define model layers \n",
    "        #Embedding layer and dropout\n",
    "        self.Embedding_layer = layers.Embedding(input_dim=embedding_input, output_dim=embedding_dims, embeddings_regularizer=regularizers.l2(0.0001), \n",
    "                                                mask_zero=True, trainable=True, weights=[embedding_matrix], name='Embedding_layer')\n",
    "        self.Dropout1 = layers.Dropout(0.5, name='Dropout_layer1')\n",
    "        \n",
    "        #Gaussian noise layer\n",
    "        self.Noise_layer = layers.GaussianNoise(0.08, name='Gaussian_Noise_layer')\n",
    "\n",
    "        #Sentiment mask and dropout \n",
    "        self.SentimentMaskLayer = SentimentMaskLayer(sentiments_vocab_indices, sentiment_weighing_factor=sentiment_weighing_factor, name='Sentiment_Mask_layer')\n",
    "        self.Dropout2 = layers.Dropout(0.5, name='Dropout_layer2')\n",
    "\n",
    "        #Self-Attention layer and dropout\n",
    "        self.Attention_layer = SelfAttentionLayer(name='Self-Attention_layer')\n",
    "        self.Dropout3 = layers.Dropout(0.5, name='Dropout_layer3')\n",
    "        \n",
    "        #Convolutional and pooling layers (for varying n-grams processing)\n",
    "        self.Conv1D_layer1 = layers.Conv1D(filters=Conv1D_filters, kernel_size=3, padding='same', activation='relu', name='Conv1D_3grams_layer')\n",
    "        self.MaxPool_layer1 = layers.MaxPooling1D(name='MaxPool_layer1')\n",
    "\n",
    "        self.Conv1D_layer2 = layers.Conv1D(filters=Conv1D_filters, kernel_size=4, padding='same', activation='relu', name='Conv1D_4grams_layer')\n",
    "        self.MaxPool_layer2 = layers.MaxPooling1D(name='MaxPool_layer2')\n",
    "\n",
    "        #Concatenation and Reshaping layers \n",
    "        self.Concatenate_layer = layers.Concatenate(axis=-1, name='Concatenate_layer')\n",
    "        self.Reshape_layer = layers.Reshape((1, -1), name='Reshape_layer') \n",
    "\n",
    "        #Bidirectional LSTM layer and spatial dropout\n",
    "        self.Bidirectional_LSTM_layer = layers.Bidirectional(\n",
    "            layers.LSTM(units=LSTM_units, activation='tanh', return_sequences=True,\n",
    "                        kernel_regularizer=regularizers.l2(0.001), name='LSTM_layer'), \n",
    "                    name='Bidirectional_LSTM_layer')\n",
    "        self.SpatialDropout = layers.SpatialDropout1D(0.5, name='SpatialDropout_layer')\n",
    "\n",
    "        #Global Average Pooling layer\n",
    "        self.GlobalAvgPool_layer = layers.GlobalAveragePooling1D(name='GlobalAvgPooling1D_layer')\n",
    "        \n",
    "        #Final classification layer\n",
    "        self.Classification_layer = layers.Dense(output_dims, activation='softmax', kernel_regularizer=regularizers.l2(0.001), name='Classification_layer')\n",
    "\n",
    "\n",
    "    def call(self, inputs, training=None):\n",
    "        text_tokens = inputs \n",
    "        #Text Embedding\n",
    "        text_embeddings = self.Embedding_layer(inputs)\n",
    "        text_embeddings = self.Dropout1(text_embeddings)\n",
    "\n",
    "        #Apply Gaussian Noise\n",
    "        if training:\n",
    "            text_embeddings = self.Noise_layer(text_embeddings, training=training)\n",
    "\n",
    "        #Sentiment Masking         \n",
    "        embeddings_masked = self.SentimentMaskLayer([text_embeddings, text_tokens])\n",
    "        embeddings_masked = self.Dropout2(embeddings_masked)\n",
    "\n",
    "        #Self-attention\n",
    "        attention_output = self.Attention_layer(embeddings_masked)\n",
    "        attention_output = self.Dropout3(attention_output)\n",
    "\n",
    "        #Convolutional layers for n-grams\n",
    "        threegrams_features = self.Conv1D_layer1(attention_output)\n",
    "        threegrams_features = self.MaxPool_layer1(threegrams_features)\n",
    "        fourgrams_features = self.Conv1D_layer2(attention_output)\n",
    "        fourgrams_features = self.MaxPool_layer2(fourgrams_features)\n",
    "\n",
    "        #Merge and reshape features \n",
    "        merged_features = self.Concatenate_layer([threegrams_features, fourgrams_features])\n",
    "        features_reshaped = self.Reshape_layer(merged_features)\n",
    "\n",
    "        #Bidirectional LSTM         \n",
    "        bi_LSTM_output = self.Bidirectional_LSTM_layer(features_reshaped)\n",
    "        bi_LSTM_output = self.SpatialDropout(bi_LSTM_output)\n",
    "        \n",
    "        #Global average pooling \n",
    "        global_avg_output = self.GlobalAvgPool_layer(bi_LSTM_output)\n",
    "        \n",
    "        #Final classification \n",
    "        final_outputs = self.Classification_layer(global_avg_output)\n",
    "        return final_outputs\n",
    "\n"
   ]
  },
  {
   "cell_type": "markdown",
   "id": "efc4eb31",
   "metadata": {},
   "source": [
    "**Instantiating the RNN Model**"
   ]
  },
  {
   "cell_type": "code",
   "execution_count": 23,
   "id": "5b9d1f3c",
   "metadata": {},
   "outputs": [],
   "source": [
    "#Build RNN network using model subclass\n",
    "RNN_model = RNN_Network(embedding_input=vocab_size,\n",
    "                        LSTM_units=128,\n",
    "                        Conv1D_filters=128,\n",
    "                        output_dims=len(np.unique(y_data)),\n",
    "                        sentiments_vocab_indices=sentiments_vocab_indices,\n",
    "                        sentiment_weighing_factor=2.0)\n"
   ]
  },
  {
   "cell_type": "markdown",
   "id": "5c59e570",
   "metadata": {},
   "source": [
    "Now the model architecture is complete. I will proceed to implementing the necessary training configurations and then train the model."
   ]
  },
  {
   "cell_type": "markdown",
   "id": "a1c74e9b",
   "metadata": {},
   "source": [
    "### Training configurations <br>\n",
    "\n",
    "To optimize the model during training, I will use the Adam (Adaptive Moment Estimation) optimizer and set a low learning rate (lr=0.0002) for better training stability (and epsilon=1e-6 for numeric stability). Given that the current task is multi-class classification, I will use sparse categorical cross-entropy as the loss function to train the model with. Further, I will implement and use a custom learning rate scheduler to monitor the training process and reduce the learning rate when necessary. This custom scheduler will basically be the same as Keras' [ReduceLROnPlateau](https://keras.io/api/callbacks/reduce_lr_on_plateau/) class, except I will extend it with additional parameters for better control over its behavior. Finally, I will use early stopping to stop training when the model is no longer learning new information or has reached convergence.  "
   ]
  },
  {
   "cell_type": "markdown",
   "id": "6beccc83",
   "metadata": {},
   "source": [
    "**Model Compilation**"
   ]
  },
  {
   "cell_type": "code",
   "execution_count": 24,
   "id": "187b04ec",
   "metadata": {},
   "outputs": [],
   "source": [
    "#Compile the model\n",
    "RNN_model.compile(optimizer=optimizers.Adam(learning_rate=0.0002, epsilon=1e-6), \n",
    "                  loss='sparse_categorical_crossentropy', metrics=['accuracy'])\n"
   ]
  },
  {
   "cell_type": "markdown",
   "id": "337cc4be",
   "metadata": {},
   "source": [
    "**Learning Rate Schedule and Early Stopping**"
   ]
  },
  {
   "cell_type": "code",
   "execution_count": 25,
   "id": "0d8b1717",
   "metadata": {},
   "outputs": [],
   "source": [
    "#Build a custom Adaptive Learning Rate for the optimizer\n",
    "class AdaptiveLearningRate(Callback):\n",
    "    '''\n",
    "    Custom learning rate scheduler that implements an adaptive learning rate strategy for \n",
    "    the optimizer during model training.\n",
    "    '''\n",
    "    def __init__(self, metric='val_loss', higher_is_better=False, patience=5, decrease_factor=0.5, \n",
    "                 min_lr=0.000001, min_delta=0.0, start_from_epoch=0, use_absolute_best=True, verbose=1):\n",
    "        super(AdaptiveLearningRate, self).__init__()\n",
    "        self.metric = metric\n",
    "        self.higher_is_better = higher_is_better\n",
    "        self.patience = patience\n",
    "        self.decrease_factor = decrease_factor\n",
    "        self.min_lr = min_lr\n",
    "        self.min_delta = min_delta \n",
    "        self.last_best_score = -np.inf if higher_is_better else np.inf\n",
    "        self.use_absolute_best = use_absolute_best\n",
    "        self.start_from_epoch = max(start_from_epoch - 1, 0)   #to keep up with a count start of 1 (instead of 0)\n",
    "        self.verbose = verbose\n",
    "        self.wait = 0\n",
    "\n",
    "\n",
    "    def on_epoch_end(self, epoch, logs=None):\n",
    "        #Get current metric value (loss or any other metric)\n",
    "        current_score = logs.get(self.metric)\n",
    "\n",
    "        if current_score is None:\n",
    "            return\n",
    "\n",
    "        if epoch >= self.start_from_epoch:\n",
    "            #Check for improvement\n",
    "            improvement = (\n",
    "                    ((current_score - self.last_best_score) > self.min_delta) \n",
    "                    if self.higher_is_better\n",
    "                    else ((self.last_best_score - current_score) > self.min_delta)\n",
    "                )\n",
    "\n",
    "            if improvement:\n",
    "                self.last_best_score = current_score\n",
    "                self.wait = 0  #Reset wait since improvement happened\n",
    "            else:\n",
    "                self.wait += 1\n",
    "\n",
    "            #Check if patience is exceeded, reduce the learning rate\n",
    "            if self.wait >= self.patience:\n",
    "                #Reduce learning rate by a decrease factor and ensure it does not go below min_lr\n",
    "                current_lr = float(tf.keras.backend.get_value(self.model.optimizer.learning_rate))\n",
    "                new_lr = max(current_lr * self.decrease_factor, self.min_lr)\n",
    "                self.model.optimizer.learning_rate.assign(new_lr)   #Set new learning rate\n",
    "                if self.verbose > 0:\n",
    "                    print(f\"\\nEpoch {epoch + 1}: Learning rate reduced to {new_lr:.5f}.\")\n",
    "                if not self.use_absolute_best:    #uses last best instead of the absolute best\n",
    "                    self.last_best_score = current_score   \n",
    "                self.wait = 0   #Reset wait after learning rate adjustment\n",
    "\n",
    "\n",
    "#Adaptive learning rate scheduler \n",
    "lr_scheduler = AdaptiveLearningRate(metric='val_loss', patience=2, decrease_factor=0.5, min_lr=0.00001, min_delta=0.01, start_from_epoch=5)\n",
    "\n",
    "#Define early stopping criterion\n",
    "early_stop = EarlyStopping(monitor='val_loss', min_delta=0.01, patience=5, start_from_epoch=10)\n"
   ]
  },
  {
   "cell_type": "markdown",
   "id": "3e97bfcf",
   "metadata": {},
   "source": [
    "### Model Training and Evaluation <br>\n",
    "\n",
    "Proceeding finally to model training, I will train the model for 30 epochs using the training and validation sets, and set a smaller batch size of 16 to promote better generalizability. Tweets generally tend to be short and highly diverse with very limited contexts, thus decreasing batch size should help the model capture more varied micro-contexts per epoch and adapt its parameters more flexibly, which should lead to more generalizability. "
   ]
  },
  {
   "cell_type": "markdown",
   "id": "d14f6677",
   "metadata": {},
   "source": [
    "**Model Training**"
   ]
  },
  {
   "cell_type": "code",
   "execution_count": 26,
   "id": "1d53fb85",
   "metadata": {},
   "outputs": [
    {
     "name": "stdout",
     "output_type": "stream",
     "text": [
      "Epoch 1/30\n",
      "\u001b[1m1200/1200\u001b[0m \u001b[32m━━━━━━━━━━━━━━━━━━━━\u001b[0m\u001b[37m\u001b[0m \u001b[1m87s\u001b[0m 70ms/step - accuracy: 0.5086 - loss: 75.1875 - val_accuracy: 0.6611 - val_loss: 40.7153\n",
      "Epoch 2/30\n",
      "\u001b[1m1200/1200\u001b[0m \u001b[32m━━━━━━━━━━━━━━━━━━━━\u001b[0m\u001b[37m\u001b[0m \u001b[1m84s\u001b[0m 70ms/step - accuracy: 0.6282 - loss: 34.4441 - val_accuracy: 0.6820 - val_loss: 20.2937\n",
      "Epoch 3/30\n",
      "\u001b[1m1200/1200\u001b[0m \u001b[32m━━━━━━━━━━━━━━━━━━━━\u001b[0m\u001b[37m\u001b[0m \u001b[1m89s\u001b[0m 75ms/step - accuracy: 0.6580 - loss: 17.4985 - val_accuracy: 0.6876 - val_loss: 11.0231\n",
      "Epoch 4/30\n",
      "\u001b[1m1200/1200\u001b[0m \u001b[32m━━━━━━━━━━━━━━━━━━━━\u001b[0m\u001b[37m\u001b[0m \u001b[1m85s\u001b[0m 70ms/step - accuracy: 0.6723 - loss: 9.7114 - val_accuracy: 0.6978 - val_loss: 6.5765\n",
      "Epoch 5/30\n",
      "\u001b[1m1200/1200\u001b[0m \u001b[32m━━━━━━━━━━━━━━━━━━━━\u001b[0m\u001b[37m\u001b[0m \u001b[1m86s\u001b[0m 71ms/step - accuracy: 0.6833 - loss: 5.9265 - val_accuracy: 0.7043 - val_loss: 4.3114\n",
      "Epoch 6/30\n",
      "\u001b[1m1200/1200\u001b[0m \u001b[32m━━━━━━━━━━━━━━━━━━━━\u001b[0m\u001b[37m\u001b[0m \u001b[1m86s\u001b[0m 71ms/step - accuracy: 0.6988 - loss: 3.9622 - val_accuracy: 0.7028 - val_loss: 3.0798\n",
      "Epoch 7/30\n",
      "\u001b[1m1200/1200\u001b[0m \u001b[32m━━━━━━━━━━━━━━━━━━━━\u001b[0m\u001b[37m\u001b[0m \u001b[1m84s\u001b[0m 70ms/step - accuracy: 0.7008 - loss: 2.8679 - val_accuracy: 0.7061 - val_loss: 2.3397\n",
      "Epoch 8/30\n",
      "\u001b[1m1200/1200\u001b[0m \u001b[32m━━━━━━━━━━━━━━━━━━━━\u001b[0m\u001b[37m\u001b[0m \u001b[1m84s\u001b[0m 70ms/step - accuracy: 0.7078 - loss: 2.2121 - val_accuracy: 0.7137 - val_loss: 1.8879\n",
      "Epoch 9/30\n",
      "\u001b[1m1200/1200\u001b[0m \u001b[32m━━━━━━━━━━━━━━━━━━━━\u001b[0m\u001b[37m\u001b[0m \u001b[1m84s\u001b[0m 70ms/step - accuracy: 0.7127 - loss: 1.7970 - val_accuracy: 0.7163 - val_loss: 1.5883\n",
      "Epoch 10/30\n",
      "\u001b[1m1200/1200\u001b[0m \u001b[32m━━━━━━━━━━━━━━━━━━━━\u001b[0m\u001b[37m\u001b[0m \u001b[1m83s\u001b[0m 70ms/step - accuracy: 0.7188 - loss: 1.5306 - val_accuracy: 0.7194 - val_loss: 1.3994\n",
      "Epoch 11/30\n",
      "\u001b[1m1200/1200\u001b[0m \u001b[32m━━━━━━━━━━━━━━━━━━━━\u001b[0m\u001b[37m\u001b[0m \u001b[1m85s\u001b[0m 70ms/step - accuracy: 0.7226 - loss: 1.3551 - val_accuracy: 0.7232 - val_loss: 1.2601\n",
      "Epoch 12/30\n",
      "\u001b[1m1200/1200\u001b[0m \u001b[32m━━━━━━━━━━━━━━━━━━━━\u001b[0m\u001b[37m\u001b[0m \u001b[1m85s\u001b[0m 71ms/step - accuracy: 0.7286 - loss: 1.2246 - val_accuracy: 0.7235 - val_loss: 1.1831\n",
      "Epoch 13/30\n",
      "\u001b[1m1200/1200\u001b[0m \u001b[32m━━━━━━━━━━━━━━━━━━━━\u001b[0m\u001b[37m\u001b[0m \u001b[1m85s\u001b[0m 71ms/step - accuracy: 0.7304 - loss: 1.1374 - val_accuracy: 0.7195 - val_loss: 1.1237\n",
      "Epoch 14/30\n",
      "\u001b[1m1200/1200\u001b[0m \u001b[32m━━━━━━━━━━━━━━━━━━━━\u001b[0m\u001b[37m\u001b[0m \u001b[1m83s\u001b[0m 69ms/step - accuracy: 0.7395 - loss: 1.0640 - val_accuracy: 0.7212 - val_loss: 1.0687\n",
      "Epoch 15/30\n",
      "\u001b[1m1200/1200\u001b[0m \u001b[32m━━━━━━━━━━━━━━━━━━━━\u001b[0m\u001b[37m\u001b[0m \u001b[1m86s\u001b[0m 72ms/step - accuracy: 0.7428 - loss: 1.0164 - val_accuracy: 0.7245 - val_loss: 1.0350\n",
      "Epoch 16/30\n",
      "\u001b[1m1200/1200\u001b[0m \u001b[32m━━━━━━━━━━━━━━━━━━━━\u001b[0m\u001b[37m\u001b[0m \u001b[1m84s\u001b[0m 70ms/step - accuracy: 0.7459 - loss: 0.9778 - val_accuracy: 0.7237 - val_loss: 1.0189\n",
      "Epoch 17/30\n",
      "\u001b[1m1200/1200\u001b[0m \u001b[32m━━━━━━━━━━━━━━━━━━━━\u001b[0m\u001b[37m\u001b[0m \u001b[1m85s\u001b[0m 71ms/step - accuracy: 0.7509 - loss: 0.9390 - val_accuracy: 0.7195 - val_loss: 1.0019\n",
      "Epoch 18/30\n",
      "\u001b[1m1200/1200\u001b[0m \u001b[32m━━━━━━━━━━━━━━━━━━━━\u001b[0m\u001b[37m\u001b[0m \u001b[1m84s\u001b[0m 70ms/step - accuracy: 0.7551 - loss: 0.9127 - val_accuracy: 0.7197 - val_loss: 0.9896\n",
      "Epoch 19/30\n",
      "\u001b[1m1200/1200\u001b[0m \u001b[32m━━━━━━━━━━━━━━━━━━━━\u001b[0m\u001b[37m\u001b[0m \u001b[1m83s\u001b[0m 69ms/step - accuracy: 0.7606 - loss: 0.8841 - val_accuracy: 0.7201 - val_loss: 0.9694\n",
      "Epoch 20/30\n",
      "\u001b[1m1200/1200\u001b[0m \u001b[32m━━━━━━━━━━━━━━━━━━━━\u001b[0m\u001b[37m\u001b[0m \u001b[1m84s\u001b[0m 70ms/step - accuracy: 0.7623 - loss: 0.8572 - val_accuracy: 0.7201 - val_loss: 0.9635\n",
      "Epoch 21/30\n",
      "\u001b[1m1200/1200\u001b[0m \u001b[32m━━━━━━━━━━━━━━━━━━━━\u001b[0m\u001b[37m\u001b[0m \u001b[1m90s\u001b[0m 75ms/step - accuracy: 0.7674 - loss: 0.8393 - val_accuracy: 0.7228 - val_loss: 0.9474\n",
      "Epoch 22/30\n",
      "\u001b[1m1200/1200\u001b[0m \u001b[32m━━━━━━━━━━━━━━━━━━━━\u001b[0m\u001b[37m\u001b[0m \u001b[1m86s\u001b[0m 72ms/step - accuracy: 0.7641 - loss: 0.8267 - val_accuracy: 0.7170 - val_loss: 0.9465\n",
      "Epoch 23/30\n",
      "\u001b[1m1200/1200\u001b[0m \u001b[32m━━━━━━━━━━━━━━━━━━━━\u001b[0m\u001b[37m\u001b[0m \u001b[1m87s\u001b[0m 72ms/step - accuracy: 0.7639 - loss: 0.8139 - val_accuracy: 0.7137 - val_loss: 0.9299\n",
      "Epoch 24/30\n",
      "\u001b[1m1200/1200\u001b[0m \u001b[32m━━━━━━━━━━━━━━━━━━━━\u001b[0m\u001b[37m\u001b[0m \u001b[1m89s\u001b[0m 74ms/step - accuracy: 0.7733 - loss: 0.7936 - val_accuracy: 0.7201 - val_loss: 0.9362\n",
      "Epoch 25/30\n",
      "\u001b[1m1200/1200\u001b[0m \u001b[32m━━━━━━━━━━━━━━━━━━━━\u001b[0m\u001b[37m\u001b[0m \u001b[1m0s\u001b[0m 68ms/step - accuracy: 0.7712 - loss: 0.7889\n",
      "Epoch 25: Learning rate reduced to 0.00010.\n",
      "\u001b[1m1200/1200\u001b[0m \u001b[32m━━━━━━━━━━━━━━━━━━━━\u001b[0m\u001b[37m\u001b[0m \u001b[1m88s\u001b[0m 74ms/step - accuracy: 0.7712 - loss: 0.7889 - val_accuracy: 0.7127 - val_loss: 0.9228\n",
      "Epoch 26/30\n",
      "\u001b[1m1200/1200\u001b[0m \u001b[32m━━━━━━━━━━━━━━━━━━━━\u001b[0m\u001b[37m\u001b[0m \u001b[1m87s\u001b[0m 72ms/step - accuracy: 0.7790 - loss: 0.7637 - val_accuracy: 0.7174 - val_loss: 0.9240\n",
      "Epoch 27/30\n",
      "\u001b[1m1200/1200\u001b[0m \u001b[32m━━━━━━━━━━━━━━━━━━━━\u001b[0m\u001b[37m\u001b[0m \u001b[1m0s\u001b[0m 67ms/step - accuracy: 0.7819 - loss: 0.7502\n",
      "Epoch 27: Learning rate reduced to 0.00005.\n",
      "\u001b[1m1200/1200\u001b[0m \u001b[32m━━━━━━━━━━━━━━━━━━━━\u001b[0m\u001b[37m\u001b[0m \u001b[1m87s\u001b[0m 73ms/step - accuracy: 0.7819 - loss: 0.7502 - val_accuracy: 0.7163 - val_loss: 0.9203\n",
      "Epoch 28/30\n",
      "\u001b[1m1200/1200\u001b[0m \u001b[32m━━━━━━━━━━━━━━━━━━━━\u001b[0m\u001b[37m\u001b[0m \u001b[1m87s\u001b[0m 72ms/step - accuracy: 0.7826 - loss: 0.7354 - val_accuracy: 0.7157 - val_loss: 0.9075\n",
      "Epoch 29/30\n",
      "\u001b[1m1200/1200\u001b[0m \u001b[32m━━━━━━━━━━━━━━━━━━━━\u001b[0m\u001b[37m\u001b[0m \u001b[1m87s\u001b[0m 72ms/step - accuracy: 0.7810 - loss: 0.7304 - val_accuracy: 0.7139 - val_loss: 0.9084\n",
      "Epoch 30/30\n",
      "\u001b[1m1200/1200\u001b[0m \u001b[32m━━━━━━━━━━━━━━━━━━━━\u001b[0m\u001b[37m\u001b[0m \u001b[1m0s\u001b[0m 67ms/step - accuracy: 0.7851 - loss: 0.7216\n",
      "Epoch 30: Learning rate reduced to 0.00002.\n",
      "\u001b[1m1200/1200\u001b[0m \u001b[32m━━━━━━━━━━━━━━━━━━━━\u001b[0m\u001b[37m\u001b[0m \u001b[1m87s\u001b[0m 72ms/step - accuracy: 0.7851 - loss: 0.7216 - val_accuracy: 0.7141 - val_loss: 0.9034\n"
     ]
    },
    {
     "data": {
      "image/png": "[encoded data removed]",
      "text/plain": [
       "<Figure size 1500x500 with 2 Axes>"
      ]
     },
     "metadata": {},
     "output_type": "display_data"
    }
   ],
   "source": [
    "#Fit the model (30 training epochs) \n",
    "RNN_run_history = RNN_model.fit(X_train, y_train, \n",
    "                                epochs=30,\n",
    "                                batch_size=16,\n",
    "                                validation_data=(X_val, y_val),\n",
    "                                callbacks=[lr_scheduler, early_stop])\n",
    "\n",
    "#Visualize run history\n",
    "plot_training_history([RNN_run_history], metrics=['loss', 'accuracy'])\n"
   ]
  },
  {
   "cell_type": "markdown",
   "id": "339f2082",
   "metadata": {},
   "source": [
    " "
   ]
  },
  {
   "cell_type": "markdown",
   "id": "45a774d7",
   "metadata": {},
   "source": [
    "**Model Evaluation**"
   ]
  },
  {
   "cell_type": "code",
   "execution_count": 27,
   "id": "78deedbf",
   "metadata": {},
   "outputs": [
    {
     "name": "stdout",
     "output_type": "stream",
     "text": [
      "Model Evaluation Results:\n",
      "\n"
     ]
    },
    {
     "data": {
      "text/html": [
       "<div>\n",
       "<style scoped>\n",
       "    .dataframe tbody tr th:only-of-type {\n",
       "        vertical-align: middle;\n",
       "    }\n",
       "\n",
       "    .dataframe tbody tr th {\n",
       "        vertical-align: top;\n",
       "    }\n",
       "\n",
       "    .dataframe thead th {\n",
       "        text-align: right;\n",
       "    }\n",
       "</style>\n",
       "<table border=\"1\" class=\"dataframe\">\n",
       "  <thead>\n",
       "    <tr style=\"text-align: right;\">\n",
       "      <th></th>\n",
       "      <th>neutral</th>\n",
       "      <th>positive</th>\n",
       "      <th>negative</th>\n",
       "    </tr>\n",
       "  </thead>\n",
       "  <tbody>\n",
       "    <tr>\n",
       "      <th>Accuracy</th>\n",
       "      <td>0.72</td>\n",
       "      <td>0.72</td>\n",
       "      <td>0.72</td>\n",
       "    </tr>\n",
       "    <tr>\n",
       "      <th>Precision</th>\n",
       "      <td>0.68</td>\n",
       "      <td>0.77</td>\n",
       "      <td>0.71</td>\n",
       "    </tr>\n",
       "    <tr>\n",
       "      <th>Recall</th>\n",
       "      <td>0.72</td>\n",
       "      <td>0.74</td>\n",
       "      <td>0.69</td>\n",
       "    </tr>\n",
       "    <tr>\n",
       "      <th>F1 score</th>\n",
       "      <td>0.70</td>\n",
       "      <td>0.76</td>\n",
       "      <td>0.70</td>\n",
       "    </tr>\n",
       "  </tbody>\n",
       "</table>\n",
       "</div>"
      ],
      "text/plain": [
       "           neutral  positive  negative\n",
       "Accuracy      0.72      0.72      0.72\n",
       "Precision     0.68      0.77      0.71\n",
       "Recall        0.72      0.74      0.69\n",
       "F1 score      0.70      0.76      0.70"
      ]
     },
     "execution_count": 27,
     "metadata": {},
     "output_type": "execute_result"
    }
   ],
   "source": [
    "#Evaluate the model on the testing set\n",
    "loss, accuracy = RNN_model.evaluate(X_test, y_test, verbose=0)\n",
    "\n",
    "#Get class predictions\n",
    "y_pred = RNN_model.predict(X_test, verbose=0).argmax(axis=-1)\n",
    "\n",
    "#Report results\n",
    "print('Model Evaluation Results:\\n')\n",
    "error_scores(y_test, y_pred, accuracy, classes=classes)\n"
   ]
  },
  {
   "cell_type": "markdown",
   "id": "572b36a6",
   "metadata": {},
   "source": [
    " "
   ]
  },
  {
   "cell_type": "markdown",
   "id": "df9a11e6-0bea-4642-b894-d1d2bfdda8ed",
   "metadata": {},
   "source": [
    "As illustrated, the model training and performance on testing were satisfactory. Indeed, accuracy improved significantly from the baseline, increasing by 75%, with overall accuracy score of 0.72 (compared to 0.40 at baseline). Further, more importantly, the model successfully learned to differentiate positive and negative sentiments from each other and from neutral ones. We can see this more strikingly with the recall and F1 scores. Whereas the recall and F1 scores hardly went above 0.1 at baseline for positive and negative sentiments, with the current network they shot up to ~0.7-0.75. This indeed shows that the network learned appropriate embeddings, carving up a satisfactory representations space for the words and their semantic relationships and dependencies. This makes perfect sense of course as these types of networks are specialized for such a type of task, using a specialized embedding layer for word representation, sentiment emphasis and self-attention layers for identifying emotional terms and relevant terms overall, as well as convolutional layers for local pattern and feature extraction and a LSTM layer for context awareness and learning temporal/semantic dependencies. None of these capabilities are available for the simple logistic regression model, hence the stark difference in performance. Now we can use the model to generate sentiment predictions on a random sample of data from the testing set."
   ]
  },
  {
   "cell_type": "markdown",
   "id": "33b8b07e",
   "metadata": {},
   "source": [
    " "
   ]
  },
  {
   "cell_type": "markdown",
   "id": "3e4565db",
   "metadata": {},
   "source": [
    "**Generating Sentiment Predictions from a Random Sample**"
   ]
  },
  {
   "cell_type": "code",
   "execution_count": 33,
   "id": "b1b22b89",
   "metadata": {},
   "outputs": [
    {
     "name": "stdout",
     "output_type": "stream",
     "text": [
      "\u001b[1m1/1\u001b[0m \u001b[32m━━━━━━━━━━━━━━━━━━━━\u001b[0m\u001b[37m\u001b[0m \u001b[1m0s\u001b[0m 35ms/step\n"
     ]
    },
    {
     "data": {
      "text/html": [
       "<div>\n",
       "<style scoped>\n",
       "    .dataframe tbody tr th:only-of-type {\n",
       "        vertical-align: middle;\n",
       "    }\n",
       "\n",
       "    .dataframe tbody tr th {\n",
       "        vertical-align: top;\n",
       "    }\n",
       "\n",
       "    .dataframe thead th {\n",
       "        text-align: right;\n",
       "    }\n",
       "</style>\n",
       "<table border=\"1\" class=\"dataframe\">\n",
       "  <thead>\n",
       "    <tr style=\"text-align: right;\">\n",
       "      <th></th>\n",
       "      <th>Tweet (preprocessed)</th>\n",
       "      <th>Predicted Sentiment</th>\n",
       "    </tr>\n",
       "  </thead>\n",
       "  <tbody>\n",
       "    <tr>\n",
       "      <th>0</th>\n",
       "      <td>going bed good night everyone love say good morning sweet dream</td>\n",
       "      <td>positive</td>\n",
       "    </tr>\n",
       "    <tr>\n",
       "      <th>1</th>\n",
       "      <td>haha best thing office birthday hey</td>\n",
       "      <td>positive</td>\n",
       "    </tr>\n",
       "    <tr>\n",
       "      <th>2</th>\n",
       "      <td>sanjaya forever hahahahahaha</td>\n",
       "      <td>neutral</td>\n",
       "    </tr>\n",
       "    <tr>\n",
       "      <th>3</th>\n",
       "      <td>kel17 ehh carnt stand hot weather</td>\n",
       "      <td>negative</td>\n",
       "    </tr>\n",
       "    <tr>\n",
       "      <th>4</th>\n",
       "      <td>quick answer put bleach wash start middle dont laugh</td>\n",
       "      <td>neutral</td>\n",
       "    </tr>\n",
       "    <tr>\n",
       "      <th>5</th>\n",
       "      <td>lol girl video disturbed love hk theme cute</td>\n",
       "      <td>positive</td>\n",
       "    </tr>\n",
       "    <tr>\n",
       "      <th>6</th>\n",
       "      <td>nobody home tonight except alone sigh oh wish</td>\n",
       "      <td>negative</td>\n",
       "    </tr>\n",
       "    <tr>\n",
       "      <th>7</th>\n",
       "      <td>fun though</td>\n",
       "      <td>positive</td>\n",
       "    </tr>\n",
       "    <tr>\n",
       "      <th>8</th>\n",
       "      <td>repeat final second game 3 dalden please official anyway happy mother day</td>\n",
       "      <td>positive</td>\n",
       "    </tr>\n",
       "    <tr>\n",
       "      <th>9</th>\n",
       "      <td>hello hows life side screen</td>\n",
       "      <td>neutral</td>\n",
       "    </tr>\n",
       "  </tbody>\n",
       "</table>\n",
       "</div>"
      ],
      "text/plain": [
       "                                                        Tweet (preprocessed)  \\\n",
       "0            going bed good night everyone love say good morning sweet dream   \n",
       "1                                        haha best thing office birthday hey   \n",
       "2                                               sanjaya forever hahahahahaha   \n",
       "3                                          kel17 ehh carnt stand hot weather   \n",
       "4                       quick answer put bleach wash start middle dont laugh   \n",
       "5                                lol girl video disturbed love hk theme cute   \n",
       "6                              nobody home tonight except alone sigh oh wish   \n",
       "7                                                                 fun though   \n",
       "8  repeat final second game 3 dalden please official anyway happy mother day   \n",
       "9                                                hello hows life side screen   \n",
       "\n",
       "  Predicted Sentiment  \n",
       "0            positive  \n",
       "1            positive  \n",
       "2             neutral  \n",
       "3            negative  \n",
       "4             neutral  \n",
       "5            positive  \n",
       "6            negative  \n",
       "7            positive  \n",
       "8            positive  \n",
       "9             neutral  "
      ]
     },
     "execution_count": 33,
     "metadata": {},
     "output_type": "execute_result"
    }
   ],
   "source": [
    "#Extracting a random sample from the dataset\n",
    "random_indices = tf.constant(np.random.choice(len(X_test), size=10, replace=False), dtype=tf.int32)\n",
    "X_sample = tf.gather(X_test, random_indices)\n",
    "\n",
    "#Generate sentiment predictions using the model\n",
    "predicted_sentiment = RNN_model.predict(X_sample).argmax(axis=-1)\n",
    "\n",
    "#Decode tokens of selected sample \n",
    "X_sample_raw = [decode_tokens(row, idx2word) for row in X_sample.numpy()]\n",
    "\n",
    "#Create a dataframe\n",
    "X_sample_df = pd.DataFrame({'Tweet (preprocessed)': X_sample_raw, \n",
    "                            'Predicted Sentiment': predicted_sentiment})\n",
    "\n",
    "X_sample_df['Predicted Sentiment'] = X_sample_df['Predicted Sentiment'].map({0: 'neutral', 1: 'positive', 2: 'negative'})\n",
    "\n",
    "#Display results \n",
    "X_sample_df"
   ]
  },
  {
   "cell_type": "markdown",
   "id": "bc91d3c5",
   "metadata": {},
   "source": [
    " "
   ]
  },
  {
   "cell_type": "markdown",
   "id": "69ba5796",
   "metadata": {},
   "source": [
    "### Summary <br>\n",
    "\n",
    "In summary, this project set out to perform sentiment analysis on Twitter data using deep learning and NLP techniques. An advanced recurrent neural network was developed for the task, incorporating sophisticated sentiment detection and attentional capabilities, and used to classify tweets into positive, neutral, or negative. As demonstrated by the training history and evaluation metrics, the model achieved a relatively strong performance, with good accuracy and generalization to the test set. The network was also tested on individual tweets, providing real-time sentiment classification capability, and was able to make generally reasonable and consistent sentiment predictions across a variety of tweets, indicating that it effectively learned from the training data. Thus, the project successfully leveraged deep learning to develop a functional sentiment analysis model capable of classifying tweet sentiments with considerable accuracy."
   ]
  },
  {
   "cell_type": "markdown",
   "id": "6ebce41a",
   "metadata": {},
   "source": [
    " "
   ]
  }
 ],
 "metadata": {
  "kernelspec": {
   "display_name": "Python 3",
   "language": "python",
   "name": "python3"
  },
  "language_info": {
   "codemirror_mode": {
    "name": "ipython",
    "version": 3
   },
   "file_extension": ".py",
   "mimetype": "text/x-python",
   "name": "python",
   "nbconvert_exporter": "python",
   "pygments_lexer": "ipython3",
   "version": "3.12.9"
  }
 },
 "nbformat": 4,
 "nbformat_minor": 5
}
